{
 "cells": [
  {
   "cell_type": "code",
   "execution_count": 1,
   "id": "9ba26b6c",
   "metadata": {},
   "outputs": [],
   "source": [
    "import torch\n",
    "import torch_geometric\n",
    "import os\n",
    "from glob import glob\n",
    "import json\n",
    "from torch_geometric.nn import radius, knn\n",
    "import matplotlib.pyplot as plt\n",
    "from mpl_toolkits.mplot3d import Axes3D\n",
    "import numpy as np\n",
    "from torch_geometric.nn.pool import knn\n",
    "from torch_geometric.data import Data\n",
    "from torch_geometric.utils import k_hop_subgraph, to_undirected, subgraph\n",
    "import random\n",
    "from torch_geometric.data import Batch\n",
    "from copy import deepcopy\n",
    "from torch_geometric.nn.pool import knn_graph, radius_graph\n",
    "import importlib\n",
    "from importlib import reload\n",
    "import math\n",
    "from glob import glob\n",
    "import sys\n",
    "import time\n",
    "from torch_geometric.utils import to_networkx\n",
    "from torch_geometric.utils import to_dense_adj, dense_to_sparse\n",
    "import networkx as nx\n",
    "from torch_geometric.loader import DataLoader\n",
    "import torch.nn.functional as F\n",
    "%matplotlib notebook\n",
    "%matplotlib inline"
   ]
  },
  {
   "cell_type": "code",
   "execution_count": 2,
   "id": "04a3286b",
   "metadata": {},
   "outputs": [],
   "source": [
    "contrast_vs_dir = '/xdisk/twheeler/jgaiser/ContrastVS/data/'\n",
    "pdbbind_dir = contrast_vs_dir + 'pdbbind/'\n",
    "\n",
    "ip_dir = pdbbind_dir + 'validation_pocket_ips/'\n",
    "pocket_embeds = pdbbind_dir + 'validation_pocket_embeds/'\n",
    "ligand_embeds = pdbbind_dir + 'validation_ligand_embeds/'\n",
    "\n",
    "validation_triples = []\n",
    "\n",
    "for ipf in glob(ip_dir + '*.pyg'):\n",
    "    pdb_id = ipf.split('/')[-1].split('_')[0]\n",
    "    \n",
    "    for pef in glob(pocket_embeds + '*.pyg'):\n",
    "        if pdb_id in pef:\n",
    "            \n",
    "            for lef in glob(ligand_embeds + '*.pyg'):\n",
    "                if pdb_id in lef:\n",
    "                    try:\n",
    "                        triplet = (torch.load(pef), torch.load(lef), torch.load(ipf))\n",
    "                    except:\n",
    "                        break\n",
    "                        \n",
    "                    validation_triples.append(triplet)"
   ]
  },
  {
   "cell_type": "code",
   "execution_count": 37,
   "id": "4f6c4c0e",
   "metadata": {},
   "outputs": [],
   "source": [
    "pos_counts = []\n",
    "avg_counts = []\n",
    "\n",
    "pos_dist = []\n",
    "avg_dist = []\n",
    "\n",
    "pos_min = []\n",
    "avg_min = []\n",
    "\n",
    "for pg,lg,ipg in validation_triples:\n",
    "    incident_voxels = torch.unique(knn(ipg.pos, lg.pos, 1)[1])\n",
    "    \n",
    "    pos_counts.append(ipg.count[incident_voxels].mean().item())\n",
    "    avg_counts.append(ipg.count.mean().item())\n",
    "    \n",
    "    pos_dist.append(ipg.mean_dist[incident_voxels].mean().item())\n",
    "    avg_dist.append(ipg.mean_dist.mean().item())\n",
    "    \n",
    "    pos_min.append(ipg.min_dist[incident_voxels].mean().item())\n",
    "    avg_min.append(ipg.min_dist.mean().item())"
   ]
  },
  {
   "cell_type": "code",
   "execution_count": 52,
   "id": "3407b5b4",
   "metadata": {},
   "outputs": [
    {
     "data": {
      "image/png": "[encoded data removed]",
      "text/plain": [
       "<Figure size 640x480 with 1 Axes>"
      ]
     },
     "metadata": {},
     "output_type": "display_data"
    }
   ],
   "source": [
    "plt.hist(pos_min, alpha=0.5, label='x')\n",
    "plt.hist(avg_min, alpha=0.5, label='y')\n",
    "plt.legend(loc='upper right')\n",
    "plt.show()"
   ]
  },
  {
   "cell_type": "code",
   "execution_count": 105,
   "id": "95acf05f",
   "metadata": {},
   "outputs": [],
   "source": [
    "avg_embeds = []\n",
    "vox_embeds = []"
   ]
  },
  {
   "cell_type": "code",
   "execution_count": 110,
   "id": "180e850e",
   "metadata": {},
   "outputs": [],
   "source": [
    "avg_embeds_euc = []"
   ]
  },
  {
   "cell_type": "code",
   "execution_count": 244,
   "id": "11bf6221",
   "metadata": {},
   "outputs": [
    {
     "name": "stdout",
     "output_type": "stream",
     "text": [
      "0\n",
      "10\n",
      "20\n",
      "30\n",
      "40\n"
     ]
    }
   ],
   "source": [
    "for i in range(0,50,10):\n",
    "    print(i)"
   ]
  },
  {
   "cell_type": "code",
   "execution_count": 3,
   "id": "aaabcd2a",
   "metadata": {},
   "outputs": [
    {
     "ename": "NameError",
     "evalue": "name 'cutoff' is not defined",
     "output_type": "error",
     "traceback": [
      "\u001b[0;31m---------------------------------------------------------------------------\u001b[0m",
      "\u001b[0;31mNameError\u001b[0m                                 Traceback (most recent call last)",
      "Cell \u001b[0;32mIn [3], line 7\u001b[0m\n\u001b[1;32m      4\u001b[0m cutoff_val \u001b[38;5;241m=\u001b[39m []\n\u001b[1;32m      6\u001b[0m true_neighbor_fraction \u001b[38;5;241m=\u001b[39m []\n\u001b[0;32m----> 7\u001b[0m cutoff_val\u001b[38;5;241m.\u001b[39mappend(\u001b[43mcutoff\u001b[49m)\n\u001b[1;32m      8\u001b[0m ti \u001b[38;5;241m=\u001b[39m \u001b[38;5;241m0\u001b[39m\n\u001b[1;32m     10\u001b[0m cutoff \u001b[38;5;241m=\u001b[39m \u001b[38;5;241m300\u001b[39m\n",
      "\u001b[0;31mNameError\u001b[0m: name 'cutoff' is not defined"
     ]
    }
   ],
   "source": [
    "device = torch.device('cuda' if torch.cuda.is_available() else 'cpu')\n",
    "\n",
    "cutoff_avg = []\n",
    "cutoff_val = []\n",
    "\n",
    "true_neighbor_fraction = []\n",
    "cutoff_val.append(cutoff)\n",
    "ti = 0\n",
    "\n",
    "cutoff = 300\n",
    "\n",
    "for pg,lg,ipg in validation_triples:\n",
    "    ti += 1\n",
    "    \n",
    "    lg = lg.to(device)\n",
    "    ipg = ipg.to(device)\n",
    "    pg = pg.to(device)\n",
    "\n",
    "    active_ligand_atoms = torch.unique(radius(ipg.pos, lg.pos, 4)[0])\n",
    "    active_ligand_pos = lg.pos[active_ligand_atoms]\n",
    "    active_ligand_x = lg.x[active_ligand_atoms]\n",
    "\n",
    "    pred_active_voxels = torch.sort(ipg.min_dist, descending=True).indices[:cutoff]\n",
    "    pred_active_pos = pg.pos[pred_active_voxels]\n",
    "    pred_active_x = pg.x[pred_active_voxels]\n",
    "#     pred_active_x = ipg.mean_embed[pred_active_voxels]\n",
    "\n",
    "    k = 15 \n",
    "    nearest_neighbors = knn(pred_active_x, active_ligand_x, k, cosine=True)\n",
    "\n",
    "    nearest_vox_dist = torch.norm(active_ligand_pos[nearest_neighbors[0]] -\n",
    "                                  pred_active_pos[nearest_neighbors[1]], dim=1)\n",
    "\n",
    "    true_neighbor_fraction.append(torch.where(torch.min(nearest_vox_dist.reshape(-1, k), dim=1).values < 3**0.5*2)[0].size(0) / active_ligand_atoms.size(0))\n",
    "\n",
    "\n",
    "print(sum(true_neighbor_fraction) / len(true_neighbor_fraction))"
   ]
  },
  {
   "cell_type": "code",
   "execution_count": 12,
   "id": "179bc36b",
   "metadata": {},
   "outputs": [
    {
     "name": "stdout",
     "output_type": "stream",
     "text": [
      "torch.return_types.min(\n",
      "values=tensor([284.4708,  -5.4334, -13.1977], device='cuda:0'),\n",
      "indices=tensor([2, 3, 4], device='cuda:0'))\n",
      "torch.return_types.max(\n",
      "values=tensor([289.4708,   4.5666,  -7.1977], device='cuda:0'),\n",
      "indices=tensor([1, 5, 1], device='cuda:0'))\n"
     ]
    },
    {
     "ename": "SystemExit",
     "evalue": "",
     "output_type": "error",
     "traceback": [
      "An exception has occurred, use %tb to see the full traceback.\n",
      "\u001b[0;31mSystemExit\u001b[0m\n"
     ]
    }
   ],
   "source": [
    "ti = 0\n",
    "cutoff = 300\n",
    "\n",
    "def to_directed(ei):\n",
    "    directed_ei = []\n",
    "    \n",
    "    for a,b in zip(*ei):\n",
    "        e = sorted([a.item(), b.item()])\n",
    "        if e not in directed_ei:\n",
    "            directed_ei.append(e)\n",
    "    \n",
    "    return torch.tensor(directed_ei).T\n",
    "\n",
    "for pg,lg,ipg in validation_triples:\n",
    "    ti += 1\n",
    "    \n",
    "    lg = lg.to(device)\n",
    "    ipg = ipg.to(device)\n",
    "    pg = pg.to(device)\n",
    "\n",
    "    with torch.no_grad():\n",
    "        pred_active_voxels = torch.sort(ipg.min_dist, descending=True).indices[:cutoff]\n",
    "        pred_active_pos = pg.pos[pred_active_voxels]\n",
    "        pred_active_x = pg.x[pred_active_voxels]\n",
    "\n",
    "    k = 15 \n",
    "    nearest_neighbors = knn(pred_active_x, lg.x, k, cosine=True)\n",
    "    \n",
    "    neighbor_voxels = nearest_neighbors[1].reshape(-1,k)\n",
    "    neighbor_voxel_pos = pred_active_pos[neighbor_voxels]\n",
    "    lg_ei = to_directed(lg.edge_index)\n",
    "    \n",
    "    vox_neighbor_ei = []\n",
    "    \n",
    "    for e in lg_ei.T:\n",
    "        source = e[0]\n",
    "        sink = e[1]\n",
    "        one_hops = torch.where(torch.cdist(*neighbor_voxel_pos[e]) < 3)\n",
    "        \n",
    "        vox_neighbor_sources = k*source+one_hops[0]\n",
    "        vox_neighbor_sinks = k*sink+one_hops[1]\n",
    "        \n",
    "        print(neighbor_voxel_pos.reshape(-1,3)[vox_neighbor_sources.unique()].min(0))\n",
    "        print(neighbor_voxel_pos.reshape(-1,3)[vox_neighbor_sources.unique()].max(0))\n",
    "        sys.exit()\n",
    "        \n",
    "        \n",
    "        vox_neighbor_ei.append(torch.vstack((vox_neighbor_sources, \n",
    "                                             vox_neighbor_sinks)))\n",
    "        \n",
    "    \n",
    "    vox_neighbor_ei = torch.hstack(vox_neighbor_ei)\n",
    "        \n",
    "    break"
   ]
  },
  {
   "cell_type": "code",
   "execution_count": 121,
   "id": "a29366d0",
   "metadata": {},
   "outputs": [
    {
     "name": "stdout",
     "output_type": "stream",
     "text": [
      "tensor([351, 181, 261])\n"
     ]
    }
   ],
   "source": [
    "counts = torch.tensor([0,0,0])\n",
    "\n",
    "for a,b,c in zip(avg_embeds, avg_embeds_euc, vox_embeds):\n",
    "    counts[torch.argmax(torch.tensor([a,b,c]))] += 1\n",
    "    \n",
    "print(counts)"
   ]
  }
 ],
 "metadata": {
  "kernelspec": {
   "display_name": "vs-env",
   "language": "python",
   "name": "vs-env"
  },
  "language_info": {
   "codemirror_mode": {
    "name": "ipython",
    "version": 3
   },
   "file_extension": ".py",
   "mimetype": "text/x-python",
   "name": "python",
   "nbconvert_exporter": "python",
   "pygments_lexer": "ipython3",
   "version": "3.10.6"
  }
 },
 "nbformat": 4,
 "nbformat_minor": 5
}
