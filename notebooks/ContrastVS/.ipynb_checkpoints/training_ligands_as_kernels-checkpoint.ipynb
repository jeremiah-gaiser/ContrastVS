{
 "cells": [
  {
   "cell_type": "code",
   "execution_count": null,
   "id": "9ba26b6c",
   "metadata": {},
   "outputs": [],
   "source": [
    "import torch\n",
    "import torch_geometric\n",
    "import os\n",
    "from glob import glob\n",
    "import json\n",
    "from torch_geometric.nn import radius, knn\n",
    "import matplotlib.pyplot as plt\n",
    "from mpl_toolkits.mplot3d import Axes3D\n",
    "import numpy as np\n",
    "from torch_geometric.nn.pool import knn\n",
    "from torch_geometric.data import Data\n",
    "from torch_geometric.utils import k_hop_subgraph, to_undirected, subgraph\n",
    "import random\n",
    "from torch_geometric.data import Batch\n",
    "from copy import deepcopy\n",
    "from torch_geometric.nn.pool import knn_graph, radius_graph\n",
    "import importlib\n",
    "from importlib import reload\n",
    "import math\n",
    "from glob import glob\n",
    "import sys\n",
    "import time\n",
    "from torch_geometric.utils import to_networkx\n",
    "from torch_geometric.utils import to_dense_adj, dense_to_sparse\n",
    "import networkx as nx\n",
    "from torch_geometric.loader import DataLoader\n",
    "import torch.nn.functional as F\n",
    "%matplotlib notebook\n",
    "%matplotlib inline"
   ]
  },
  {
   "cell_type": "code",
   "execution_count": 2,
   "id": "04a3286b",
   "metadata": {},
   "outputs": [],
   "source": [
    "contrast_vs_dir = '/xdisk/twheeler/jgaiser/ContrastVS/'\n",
    "GCPR_dir = contrast_vs_dir + 'GCPR_data/'\n",
    "pocket_embeds_dir = GCPR_dir + 'protein_embeds/'\n",
    "active_embeds_dir = GCPR_dir + 'ligand_embeds/'\n",
    "decoy_embeds_dir = contrast_vs_dir + 'pdbbind_data/ligand_embeds/'\n",
    "validation_pairs = torch.load('/xdisk/twheeler/jgaiser/ContrastVS/pdbbind_data/VALIDATION_PAIRS_4-2.pt')\n",
    "\n",
    "validation_ids = []\n",
    "decoy_embeds = []\n",
    "pdbbind_ligands = []\n",
    "\n",
    "for p in validation_pairs:\n",
    "    validation_ids.append(p[1].name.split('_')[0])\n",
    "    \n",
    "for d in glob(decoy_embeds_dir + '/*.pyg'):\n",
    "    pdb_id = d.split('/')[-1].split('_')[0]\n",
    "    if pdb_id in validation_ids:\n",
    "        decoy_embeds.append(torch.load(d))\n",
    "    else:\n",
    "        pdbbind_ligands.append(torch.load(d))"
   ]
  },
  {
   "cell_type": "code",
   "execution_count": 65,
   "id": "0af19f3c",
   "metadata": {},
   "outputs": [],
   "source": [
    "pdbbind_batch = DataLoader(pdbbind_ligands, batch_size=1024, shuffle=False)"
   ]
  },
  {
   "cell_type": "code",
   "execution_count": 3,
   "id": "a64c1686",
   "metadata": {},
   "outputs": [],
   "source": [
    "edge_d_obs = []\n",
    "spatial_d_obs = []\n",
    "\n",
    "def quantize_distances(mol_pos, n=27):\n",
    "    vox_min = torch.floor(torch.min(mol_pos, dim=0).values)-5\n",
    "    vox_max = torch.ceil(torch.max(mol_pos, dim=0).values)+5\n",
    "    quantized_pos = [None for _ in range(mol_pos.size(0))]\n",
    "    \n",
    "    vox_grid = torch.cartesian_prod(torch.arange(vox_min[0], vox_max[0]),\n",
    "                                    torch.arange(vox_min[1], vox_max[1]),\n",
    "                                    torch.arange(vox_min[2], vox_max[2]))\n",
    "    \n",
    "    knn_ei = knn(vox_grid, mol_pos, n)\n",
    "    \n",
    "    for bi in torch.unique(knn_ei[0]):\n",
    "        k_nearest_voxels = knn_ei[1][torch.where(knn_ei[0] == bi)[0]]\n",
    "        random_nearest = k_nearest_voxels[torch.randperm(k_nearest_voxels.size(0))][0]\n",
    "        quantized_pos[bi.item()] = vox_grid[random_nearest]\n",
    "    \n",
    "    quantized_pos = torch.vstack(quantized_pos)\n",
    "    return quantized_pos\n",
    "\n",
    "def get_distance_data(mol, atom_idx):\n",
    "    mol = deepcopy(mol)\n",
    "    edge_distance_obs = []\n",
    "    spatial_distance_obs = []\n",
    "    mol.pos = quantize_distances(mol.pos)\n",
    "    \n",
    "    observed_atoms = torch.tensor([atom_idx])\n",
    "    \n",
    "    for k in range(1, mol.x.size(0)):\n",
    "        within_k = k_hop_subgraph(atom_idx, k, mol.edge_index)[0]\n",
    "        k_hop_neighbors = torch.tensor(np.setdiff1d(within_k, observed_atoms))\n",
    "        \n",
    "        if k_hop_neighbors.size(0) == 0:\n",
    "            break\n",
    "            \n",
    "        observed_atoms = torch.hstack((observed_atoms, k_hop_neighbors))\n",
    "        spatial_distances = torch.cdist(mol.pos[atom_idx].unsqueeze(0), \n",
    "                                        mol.pos[k_hop_neighbors]).squeeze(0).tolist()\n",
    "        \n",
    "        edge_distance_obs += [k for _ in spatial_distances] \n",
    "        spatial_distance_obs += spatial_distances\n",
    "        \n",
    "    return edge_distance_obs, spatial_distance_obs\n",
    "\n",
    "for li, lg in enumerate(pdbbind_ligands):\n",
    "    ed, sd = get_distance_data(lg, random.randint(0,lg.x.size(0)-1))\n",
    "    edge_d_obs += ed\n",
    "    spatial_d_obs += sd"
   ]
  },
  {
   "cell_type": "code",
   "execution_count": 121,
   "id": "2a73b471",
   "metadata": {},
   "outputs": [],
   "source": [
    "ABCs = []\n",
    "BCDs = []\n",
    "dihedrals = []\n",
    "dh2s = []\n",
    "\n",
    "def get_angle(v1, v2):\n",
    "    # Calculate dot product and norms\n",
    "    dot_product = torch.dot(v1, v2)\n",
    "    norm_v1 = torch.norm(v1)\n",
    "    norm_v2 = torch.norm(v2)\n",
    "\n",
    "    # Calculate the angle in radians and then convert to degrees\n",
    "    cos_theta = dot_product / (norm_v1 * norm_v2)\n",
    "    theta = torch.acos(cos_theta)  # Angle in radians\n",
    "    return theta\n",
    "\n",
    "def get_angle_data(A, B, C, D=None, E=None):\n",
    "    dihedral = None\n",
    "    dh2 = None\n",
    "    # Compute vectors\n",
    "    AB = B - A\n",
    "    BC = C - B\n",
    "    \n",
    "    theta = get_angle(AB, BC)\n",
    "    \n",
    "    if D is not None:\n",
    "        CD = D - C\n",
    "        ABC_normal = torch.cross(AB, BC)\n",
    "        dihedral = get_angle(ABC_normal, CD)\n",
    "        \n",
    "    if E is not None:\n",
    "        DE = E - D\n",
    "        BCD_normal = torch.cross(BC, CD)\n",
    "        dh2 = get_angle(BCD_normal, DE)\n",
    "        \n",
    "    return theta, dihedral, dh2\n",
    "    \n",
    "for li, lg in enumerate(pdbbind_ligands):\n",
    "    lg.pos = quantize_distances(lg.pos)\n",
    "    \n",
    "    atom_chain = [random.randint(0, lg.x.size(0)-1)]\n",
    "   \n",
    "    for i in range(4):\n",
    "        sinks = lg.edge_index[1][lg.edge_index[0] == atom_chain[i]]\n",
    "        sinks = sinks[torch.randperm(sinks.size(0))]\n",
    "        \n",
    "        sink_i = 0\n",
    "        \n",
    "        if sinks.size(0) == 0:\n",
    "            break\n",
    "            \n",
    "        random_sink = sinks[sink_i].item()\n",
    "        \n",
    "        while random_sink in atom_chain:\n",
    "            sink_i += 1\n",
    "            \n",
    "            if sink_i >= sinks.size(0):\n",
    "                break\n",
    "                \n",
    "            random_sink = sinks[sink_i].item()\n",
    "            \n",
    "        if random_sink in atom_chain:\n",
    "            break\n",
    "\n",
    "        if math.isnan(random_sink):\n",
    "            print('waaat')\n",
    "            break\n",
    "            \n",
    "        atom_chain.append(random_sink)\n",
    "    \n",
    "    if len(atom_chain) < 5:\n",
    "        continue\n",
    "        \n",
    "    ABC, dihedral, dh2 = get_angle_data(*lg.pos[atom_chain])\n",
    "#     BCD = get_angle_data(*lg.pos[atom_chain[1:]])\n",
    "    \n",
    "    if torch.any(torch.isnan(torch.hstack((ABC, dihedral, dh2)))):\n",
    "        continue\n",
    "        \n",
    "    ABCs.append(ABC)\n",
    "    dihedrals.append(dihedral)\n",
    "    dh2s.append(dh2)\n",
    "    "
   ]
  },
  {
   "cell_type": "code",
   "execution_count": 122,
   "id": "bf4d44aa",
   "metadata": {},
   "outputs": [
    {
     "ename": "SyntaxError",
     "evalue": "invalid syntax (1843407163.py, line 5)",
     "output_type": "error",
     "traceback": [
      "\u001b[0;36m  Cell \u001b[0;32mIn [122], line 5\u001b[0;36m\u001b[0m\n\u001b[0;31m    bins = plt.hist2d(dhs, dhs_2, bins=)\u001b[0m\n\u001b[0m                                       ^\u001b[0m\n\u001b[0;31mSyntaxError\u001b[0m\u001b[0;31m:\u001b[0m invalid syntax\n"
     ]
    }
   ],
   "source": [
    "dhs = torch.hstack(dihedrals).numpy()\n",
    "dhs_2 = torch.hstack(dh2s).numpy()\n",
    "abcs = torch.hstack(ABCs).numpy()\n",
    "\n",
    "bins = plt.hist2d(dhs, dhs_2, bins=)\n",
    "# bins = plt.hist(BCDs_np, bins=25)d\n",
    "# plt.show()"
   ]
  },
  {
   "cell_type": "code",
   "execution_count": 117,
   "id": "f1bb0353",
   "metadata": {},
   "outputs": [
    {
     "name": "stdout",
     "output_type": "stream",
     "text": [
      "0.00 0.00 0.00 0.02 0.01 0.01 0.01 0.05 0.05 0.01 0.02 0.03 0.03 0.03 0.01 0.01 0.01 0.01 0.01 0.01\n",
      "0.00 0.01 0.01 0.02 0.02 0.03 0.09 0.06 0.13 0.09 0.13 0.09 0.06 0.11 0.03 0.09 0.03 0.02 0.04 0.00\n",
      "0.00 0.02 0.04 0.01 0.06 0.11 0.13 0.16 0.19 0.15 0.21 0.21 0.19 0.17 0.09 0.09 0.07 0.03 0.03 0.02\n",
      "0.00 0.01 0.05 0.08 0.09 0.22 0.17 0.22 0.34 0.21 0.41 0.28 0.26 0.18 0.26 0.11 0.09 0.04 0.06 0.00\n",
      "0.00 0.04 0.09 0.11 0.17 0.20 0.24 0.30 0.31 0.21 0.38 0.36 0.32 0.26 0.24 0.19 0.11 0.13 0.06 0.05\n",
      "0.01 0.04 0.09 0.13 0.25 0.29 0.42 0.43 0.36 0.38 0.60 0.48 0.44 0.38 0.32 0.21 0.20 0.15 0.07 0.03\n",
      "0.01 0.09 0.14 0.17 0.17 0.30 0.38 0.44 0.50 0.44 0.70 0.46 0.52 0.32 0.34 0.36 0.26 0.13 0.10 0.02\n",
      "0.05 0.12 0.12 0.22 0.32 0.34 0.40 0.66 0.52 0.46 0.83 0.54 0.52 0.35 0.35 0.26 0.23 0.14 0.06 0.05\n",
      "0.01 0.07 0.11 0.31 0.36 0.36 0.50 0.59 0.69 0.54 1.00 0.62 0.50 0.58 0.55 0.36 0.28 0.15 0.09 0.02\n",
      "0.04 0.09 0.12 0.22 0.26 0.26 0.50 0.48 0.46 0.54 0.63 0.46 0.47 0.44 0.36 0.28 0.26 0.19 0.11 0.05\n",
      "0.05 0.09 0.30 0.29 0.50 0.50 0.62 0.60 0.68 0.57 0.97 0.81 0.70 0.57 0.46 0.33 0.25 0.19 0.07 0.05\n",
      "0.05 0.12 0.17 0.26 0.35 0.42 0.49 0.60 0.66 0.56 0.74 0.68 0.59 0.52 0.56 0.27 0.22 0.15 0.14 0.05\n",
      "0.06 0.13 0.21 0.19 0.34 0.44 0.50 0.61 0.64 0.41 0.72 0.52 0.60 0.37 0.30 0.29 0.18 0.15 0.07 0.02\n",
      "0.04 0.07 0.10 0.25 0.32 0.24 0.40 0.42 0.54 0.46 0.51 0.44 0.55 0.32 0.38 0.15 0.15 0.13 0.10 0.02\n",
      "0.04 0.04 0.18 0.19 0.25 0.32 0.50 0.36 0.49 0.35 0.51 0.41 0.42 0.30 0.15 0.14 0.08 0.11 0.07 0.01\n",
      "0.01 0.10 0.09 0.15 0.27 0.14 0.30 0.40 0.41 0.30 0.36 0.29 0.26 0.21 0.16 0.19 0.11 0.05 0.04 0.01\n",
      "0.00 0.06 0.07 0.09 0.14 0.19 0.18 0.25 0.28 0.23 0.34 0.23 0.21 0.13 0.13 0.17 0.09 0.06 0.05 0.00\n",
      "0.03 0.03 0.05 0.09 0.07 0.18 0.11 0.15 0.20 0.16 0.18 0.19 0.17 0.11 0.14 0.09 0.05 0.03 0.01 0.01\n",
      "0.00 0.01 0.04 0.02 0.03 0.05 0.11 0.13 0.09 0.07 0.12 0.11 0.08 0.05 0.06 0.06 0.02 0.01 0.01 0.01\n",
      "0.00 0.01 0.01 0.01 0.02 0.00 0.03 0.06 0.03 0.02 0.03 0.02 0.04 0.01 0.02 0.03 0.01 0.00 0.01 0.01\n"
     ]
    }
   ],
   "source": [
    "binnies = bins[0] / bins[0].max()\n",
    "\n",
    "for r in binnies:\n",
    "    print(' '.join([\"%.2f\" % x for x in r]))"
   ]
  },
  {
   "cell_type": "code",
   "execution_count": 453,
   "id": "8e687240",
   "metadata": {},
   "outputs": [
    {
     "ename": "ValueError",
     "evalue": "The dimension of bins must be equal to the dimension of the  sample x.",
     "output_type": "error",
     "traceback": [
      "\u001b[0;31m---------------------------------------------------------------------------\u001b[0m",
      "\u001b[0;31mValueError\u001b[0m                                Traceback (most recent call last)",
      "Cell \u001b[0;32mIn [453], line 14\u001b[0m\n\u001b[1;32m      4\u001b[0m     plt\u001b[38;5;241m.\u001b[39mshow()\n\u001b[1;32m      6\u001b[0m \u001b[38;5;66;03m#     # Small bins\u001b[39;00m\n\u001b[1;32m      7\u001b[0m \u001b[38;5;66;03m#     plt.hist2d(x, y, bins=(300, 300), cmap=plt.cm.jet)\u001b[39;00m\n\u001b[1;32m      8\u001b[0m \u001b[38;5;66;03m#     plt.show()\u001b[39;00m\n\u001b[0;32m   (...)\u001b[0m\n\u001b[1;32m     11\u001b[0m \u001b[38;5;66;03m#     plt.hist2d(x, y, bins=(300, 30), cmap=plt.cm.jet)\u001b[39;00m\n\u001b[1;32m     12\u001b[0m \u001b[38;5;66;03m#     plt.show()\u001b[39;00m\n\u001b[0;32m---> 14\u001b[0m \u001b[43mhist_2d\u001b[49m\u001b[43m(\u001b[49m\u001b[43mABCs\u001b[49m\u001b[43m,\u001b[49m\u001b[43m \u001b[49m\u001b[43mBCDs\u001b[49m\u001b[43m,\u001b[49m\u001b[43m \u001b[49m\u001b[38;5;241;43m25\u001b[39;49m\u001b[43m)\u001b[49m\n",
      "Cell \u001b[0;32mIn [453], line 3\u001b[0m, in \u001b[0;36mhist_2d\u001b[0;34m(x, y, num_bins)\u001b[0m\n\u001b[1;32m      1\u001b[0m \u001b[38;5;28;01mdef\u001b[39;00m \u001b[38;5;21mhist_2d\u001b[39m(x,y,num_bins):   \n\u001b[1;32m      2\u001b[0m     \u001b[38;5;66;03m# Big bins\u001b[39;00m\n\u001b[0;32m----> 3\u001b[0m     \u001b[43mplt\u001b[49m\u001b[38;5;241;43m.\u001b[39;49m\u001b[43mhist2d\u001b[49m\u001b[43m(\u001b[49m\u001b[43mx\u001b[49m\u001b[43m,\u001b[49m\u001b[43m \u001b[49m\u001b[43my\u001b[49m\u001b[43m,\u001b[49m\u001b[43m \u001b[49m\u001b[43mbins\u001b[49m\u001b[38;5;241;43m=\u001b[39;49m\u001b[43m(\u001b[49m\u001b[38;5;241;43m50\u001b[39;49m\u001b[43m,\u001b[49m\u001b[43m \u001b[49m\u001b[38;5;241;43m50\u001b[39;49m\u001b[43m)\u001b[49m\u001b[43m,\u001b[49m\u001b[43m \u001b[49m\u001b[43mcmap\u001b[49m\u001b[38;5;241;43m=\u001b[39;49m\u001b[43mplt\u001b[49m\u001b[38;5;241;43m.\u001b[39;49m\u001b[43mcm\u001b[49m\u001b[38;5;241;43m.\u001b[39;49m\u001b[43mjet\u001b[49m\u001b[43m)\u001b[49m\n\u001b[1;32m      4\u001b[0m     plt\u001b[38;5;241m.\u001b[39mshow()\n",
      "File \u001b[0;32m~/.conda/envs/vs-env/lib/python3.10/site-packages/matplotlib/pyplot.py:2669\u001b[0m, in \u001b[0;36mhist2d\u001b[0;34m(x, y, bins, range, density, weights, cmin, cmax, data, **kwargs)\u001b[0m\n\u001b[1;32m   2665\u001b[0m \u001b[38;5;129m@_copy_docstring_and_deprecators\u001b[39m(Axes\u001b[38;5;241m.\u001b[39mhist2d)\n\u001b[1;32m   2666\u001b[0m \u001b[38;5;28;01mdef\u001b[39;00m \u001b[38;5;21mhist2d\u001b[39m(\n\u001b[1;32m   2667\u001b[0m         x, y, bins\u001b[38;5;241m=\u001b[39m\u001b[38;5;241m10\u001b[39m, \u001b[38;5;28mrange\u001b[39m\u001b[38;5;241m=\u001b[39m\u001b[38;5;28;01mNone\u001b[39;00m, density\u001b[38;5;241m=\u001b[39m\u001b[38;5;28;01mFalse\u001b[39;00m, weights\u001b[38;5;241m=\u001b[39m\u001b[38;5;28;01mNone\u001b[39;00m,\n\u001b[1;32m   2668\u001b[0m         cmin\u001b[38;5;241m=\u001b[39m\u001b[38;5;28;01mNone\u001b[39;00m, cmax\u001b[38;5;241m=\u001b[39m\u001b[38;5;28;01mNone\u001b[39;00m, \u001b[38;5;241m*\u001b[39m, data\u001b[38;5;241m=\u001b[39m\u001b[38;5;28;01mNone\u001b[39;00m, \u001b[38;5;241m*\u001b[39m\u001b[38;5;241m*\u001b[39mkwargs):\n\u001b[0;32m-> 2669\u001b[0m     __ret \u001b[38;5;241m=\u001b[39m \u001b[43mgca\u001b[49m\u001b[43m(\u001b[49m\u001b[43m)\u001b[49m\u001b[38;5;241;43m.\u001b[39;49m\u001b[43mhist2d\u001b[49m\u001b[43m(\u001b[49m\n\u001b[1;32m   2670\u001b[0m \u001b[43m        \u001b[49m\u001b[43mx\u001b[49m\u001b[43m,\u001b[49m\u001b[43m \u001b[49m\u001b[43my\u001b[49m\u001b[43m,\u001b[49m\u001b[43m \u001b[49m\u001b[43mbins\u001b[49m\u001b[38;5;241;43m=\u001b[39;49m\u001b[43mbins\u001b[49m\u001b[43m,\u001b[49m\u001b[43m \u001b[49m\u001b[38;5;28;43mrange\u001b[39;49m\u001b[38;5;241;43m=\u001b[39;49m\u001b[38;5;28;43mrange\u001b[39;49m\u001b[43m,\u001b[49m\u001b[43m \u001b[49m\u001b[43mdensity\u001b[49m\u001b[38;5;241;43m=\u001b[39;49m\u001b[43mdensity\u001b[49m\u001b[43m,\u001b[49m\n\u001b[1;32m   2671\u001b[0m \u001b[43m        \u001b[49m\u001b[43mweights\u001b[49m\u001b[38;5;241;43m=\u001b[39;49m\u001b[43mweights\u001b[49m\u001b[43m,\u001b[49m\u001b[43m \u001b[49m\u001b[43mcmin\u001b[49m\u001b[38;5;241;43m=\u001b[39;49m\u001b[43mcmin\u001b[49m\u001b[43m,\u001b[49m\u001b[43m \u001b[49m\u001b[43mcmax\u001b[49m\u001b[38;5;241;43m=\u001b[39;49m\u001b[43mcmax\u001b[49m\u001b[43m,\u001b[49m\n\u001b[1;32m   2672\u001b[0m \u001b[43m        \u001b[49m\u001b[38;5;241;43m*\u001b[39;49m\u001b[38;5;241;43m*\u001b[39;49m\u001b[43m(\u001b[49m\u001b[43m{\u001b[49m\u001b[38;5;124;43m\"\u001b[39;49m\u001b[38;5;124;43mdata\u001b[39;49m\u001b[38;5;124;43m\"\u001b[39;49m\u001b[43m:\u001b[49m\u001b[43m \u001b[49m\u001b[43mdata\u001b[49m\u001b[43m}\u001b[49m\u001b[43m \u001b[49m\u001b[38;5;28;43;01mif\u001b[39;49;00m\u001b[43m \u001b[49m\u001b[43mdata\u001b[49m\u001b[43m \u001b[49m\u001b[38;5;129;43;01mis\u001b[39;49;00m\u001b[43m \u001b[49m\u001b[38;5;129;43;01mnot\u001b[39;49;00m\u001b[43m \u001b[49m\u001b[38;5;28;43;01mNone\u001b[39;49;00m\u001b[43m \u001b[49m\u001b[38;5;28;43;01melse\u001b[39;49;00m\u001b[43m \u001b[49m\u001b[43m{\u001b[49m\u001b[43m}\u001b[49m\u001b[43m)\u001b[49m\u001b[43m,\u001b[49m\u001b[43m \u001b[49m\u001b[38;5;241;43m*\u001b[39;49m\u001b[38;5;241;43m*\u001b[39;49m\u001b[43mkwargs\u001b[49m\u001b[43m)\u001b[49m\n\u001b[1;32m   2673\u001b[0m     sci(__ret[\u001b[38;5;241m-\u001b[39m\u001b[38;5;241m1\u001b[39m])\n\u001b[1;32m   2674\u001b[0m     \u001b[38;5;28;01mreturn\u001b[39;00m __ret\n",
      "File \u001b[0;32m~/.conda/envs/vs-env/lib/python3.10/site-packages/matplotlib/__init__.py:1442\u001b[0m, in \u001b[0;36m_preprocess_data.<locals>.inner\u001b[0;34m(ax, data, *args, **kwargs)\u001b[0m\n\u001b[1;32m   1439\u001b[0m \u001b[38;5;129m@functools\u001b[39m\u001b[38;5;241m.\u001b[39mwraps(func)\n\u001b[1;32m   1440\u001b[0m \u001b[38;5;28;01mdef\u001b[39;00m \u001b[38;5;21minner\u001b[39m(ax, \u001b[38;5;241m*\u001b[39margs, data\u001b[38;5;241m=\u001b[39m\u001b[38;5;28;01mNone\u001b[39;00m, \u001b[38;5;241m*\u001b[39m\u001b[38;5;241m*\u001b[39mkwargs):\n\u001b[1;32m   1441\u001b[0m     \u001b[38;5;28;01mif\u001b[39;00m data \u001b[38;5;129;01mis\u001b[39;00m \u001b[38;5;28;01mNone\u001b[39;00m:\n\u001b[0;32m-> 1442\u001b[0m         \u001b[38;5;28;01mreturn\u001b[39;00m \u001b[43mfunc\u001b[49m\u001b[43m(\u001b[49m\u001b[43max\u001b[49m\u001b[43m,\u001b[49m\u001b[43m \u001b[49m\u001b[38;5;241;43m*\u001b[39;49m\u001b[38;5;28;43mmap\u001b[39;49m\u001b[43m(\u001b[49m\u001b[43msanitize_sequence\u001b[49m\u001b[43m,\u001b[49m\u001b[43m \u001b[49m\u001b[43margs\u001b[49m\u001b[43m)\u001b[49m\u001b[43m,\u001b[49m\u001b[43m \u001b[49m\u001b[38;5;241;43m*\u001b[39;49m\u001b[38;5;241;43m*\u001b[39;49m\u001b[43mkwargs\u001b[49m\u001b[43m)\u001b[49m\n\u001b[1;32m   1444\u001b[0m     bound \u001b[38;5;241m=\u001b[39m new_sig\u001b[38;5;241m.\u001b[39mbind(ax, \u001b[38;5;241m*\u001b[39margs, \u001b[38;5;241m*\u001b[39m\u001b[38;5;241m*\u001b[39mkwargs)\n\u001b[1;32m   1445\u001b[0m     auto_label \u001b[38;5;241m=\u001b[39m (bound\u001b[38;5;241m.\u001b[39marguments\u001b[38;5;241m.\u001b[39mget(label_namer)\n\u001b[1;32m   1446\u001b[0m                   \u001b[38;5;129;01mor\u001b[39;00m bound\u001b[38;5;241m.\u001b[39mkwargs\u001b[38;5;241m.\u001b[39mget(label_namer))\n",
      "File \u001b[0;32m~/.conda/envs/vs-env/lib/python3.10/site-packages/matplotlib/axes/_axes.py:7127\u001b[0m, in \u001b[0;36mAxes.hist2d\u001b[0;34m(self, x, y, bins, range, density, weights, cmin, cmax, **kwargs)\u001b[0m\n\u001b[1;32m   7034\u001b[0m \u001b[38;5;129m@_preprocess_data\u001b[39m(replace_names\u001b[38;5;241m=\u001b[39m[\u001b[38;5;124m\"\u001b[39m\u001b[38;5;124mx\u001b[39m\u001b[38;5;124m\"\u001b[39m, \u001b[38;5;124m\"\u001b[39m\u001b[38;5;124my\u001b[39m\u001b[38;5;124m\"\u001b[39m, \u001b[38;5;124m\"\u001b[39m\u001b[38;5;124mweights\u001b[39m\u001b[38;5;124m\"\u001b[39m])\n\u001b[1;32m   7035\u001b[0m \u001b[38;5;129m@_docstring\u001b[39m\u001b[38;5;241m.\u001b[39mdedent_interpd\n\u001b[1;32m   7036\u001b[0m \u001b[38;5;28;01mdef\u001b[39;00m \u001b[38;5;21mhist2d\u001b[39m(\u001b[38;5;28mself\u001b[39m, x, y, bins\u001b[38;5;241m=\u001b[39m\u001b[38;5;241m10\u001b[39m, \u001b[38;5;28mrange\u001b[39m\u001b[38;5;241m=\u001b[39m\u001b[38;5;28;01mNone\u001b[39;00m, density\u001b[38;5;241m=\u001b[39m\u001b[38;5;28;01mFalse\u001b[39;00m, weights\u001b[38;5;241m=\u001b[39m\u001b[38;5;28;01mNone\u001b[39;00m,\n\u001b[1;32m   7037\u001b[0m            cmin\u001b[38;5;241m=\u001b[39m\u001b[38;5;28;01mNone\u001b[39;00m, cmax\u001b[38;5;241m=\u001b[39m\u001b[38;5;28;01mNone\u001b[39;00m, \u001b[38;5;241m*\u001b[39m\u001b[38;5;241m*\u001b[39mkwargs):\n\u001b[1;32m   7038\u001b[0m     \u001b[38;5;124;03m\"\"\"\u001b[39;00m\n\u001b[1;32m   7039\u001b[0m \u001b[38;5;124;03m    Make a 2D histogram plot.\u001b[39;00m\n\u001b[1;32m   7040\u001b[0m \n\u001b[0;32m   (...)\u001b[0m\n\u001b[1;32m   7124\u001b[0m \u001b[38;5;124;03m      `.colors.PowerNorm`.\u001b[39;00m\n\u001b[1;32m   7125\u001b[0m \u001b[38;5;124;03m    \"\"\"\u001b[39;00m\n\u001b[0;32m-> 7127\u001b[0m     h, xedges, yedges \u001b[38;5;241m=\u001b[39m \u001b[43mnp\u001b[49m\u001b[38;5;241;43m.\u001b[39;49m\u001b[43mhistogram2d\u001b[49m\u001b[43m(\u001b[49m\u001b[43mx\u001b[49m\u001b[43m,\u001b[49m\u001b[43m \u001b[49m\u001b[43my\u001b[49m\u001b[43m,\u001b[49m\u001b[43m \u001b[49m\u001b[43mbins\u001b[49m\u001b[38;5;241;43m=\u001b[39;49m\u001b[43mbins\u001b[49m\u001b[43m,\u001b[49m\u001b[43m \u001b[49m\u001b[38;5;28;43mrange\u001b[39;49m\u001b[38;5;241;43m=\u001b[39;49m\u001b[38;5;28;43mrange\u001b[39;49m\u001b[43m,\u001b[49m\n\u001b[1;32m   7128\u001b[0m \u001b[43m                                       \u001b[49m\u001b[43mdensity\u001b[49m\u001b[38;5;241;43m=\u001b[39;49m\u001b[43mdensity\u001b[49m\u001b[43m,\u001b[49m\u001b[43m \u001b[49m\u001b[43mweights\u001b[49m\u001b[38;5;241;43m=\u001b[39;49m\u001b[43mweights\u001b[49m\u001b[43m)\u001b[49m\n\u001b[1;32m   7130\u001b[0m     \u001b[38;5;28;01mif\u001b[39;00m cmin \u001b[38;5;129;01mis\u001b[39;00m \u001b[38;5;129;01mnot\u001b[39;00m \u001b[38;5;28;01mNone\u001b[39;00m:\n\u001b[1;32m   7131\u001b[0m         h[h \u001b[38;5;241m<\u001b[39m cmin] \u001b[38;5;241m=\u001b[39m \u001b[38;5;28;01mNone\u001b[39;00m\n",
      "File \u001b[0;32m<__array_function__ internals>:180\u001b[0m, in \u001b[0;36mhistogram2d\u001b[0;34m(*args, **kwargs)\u001b[0m\n",
      "File \u001b[0;32m~/.conda/envs/vs-env/lib/python3.10/site-packages/numpy/lib/twodim_base.py:825\u001b[0m, in \u001b[0;36mhistogram2d\u001b[0;34m(x, y, bins, range, normed, weights, density)\u001b[0m\n\u001b[1;32m    823\u001b[0m     xedges \u001b[38;5;241m=\u001b[39m yedges \u001b[38;5;241m=\u001b[39m asarray(bins)\n\u001b[1;32m    824\u001b[0m     bins \u001b[38;5;241m=\u001b[39m [xedges, yedges]\n\u001b[0;32m--> 825\u001b[0m hist, edges \u001b[38;5;241m=\u001b[39m \u001b[43mhistogramdd\u001b[49m\u001b[43m(\u001b[49m\u001b[43m[\u001b[49m\u001b[43mx\u001b[49m\u001b[43m,\u001b[49m\u001b[43m \u001b[49m\u001b[43my\u001b[49m\u001b[43m]\u001b[49m\u001b[43m,\u001b[49m\u001b[43m \u001b[49m\u001b[43mbins\u001b[49m\u001b[43m,\u001b[49m\u001b[43m \u001b[49m\u001b[38;5;28;43mrange\u001b[39;49m\u001b[43m,\u001b[49m\u001b[43m \u001b[49m\u001b[43mnormed\u001b[49m\u001b[43m,\u001b[49m\u001b[43m \u001b[49m\u001b[43mweights\u001b[49m\u001b[43m,\u001b[49m\u001b[43m \u001b[49m\u001b[43mdensity\u001b[49m\u001b[43m)\u001b[49m\n\u001b[1;32m    826\u001b[0m \u001b[38;5;28;01mreturn\u001b[39;00m hist, edges[\u001b[38;5;241m0\u001b[39m], edges[\u001b[38;5;241m1\u001b[39m]\n",
      "File \u001b[0;32m<__array_function__ internals>:180\u001b[0m, in \u001b[0;36mhistogramdd\u001b[0;34m(*args, **kwargs)\u001b[0m\n",
      "File \u001b[0;32m~/.conda/envs/vs-env/lib/python3.10/site-packages/numpy/lib/histograms.py:1031\u001b[0m, in \u001b[0;36mhistogramdd\u001b[0;34m(sample, bins, range, normed, weights, density)\u001b[0m\n\u001b[1;32m   1029\u001b[0m     M \u001b[38;5;241m=\u001b[39m \u001b[38;5;28mlen\u001b[39m(bins)\n\u001b[1;32m   1030\u001b[0m     \u001b[38;5;28;01mif\u001b[39;00m M \u001b[38;5;241m!=\u001b[39m D:\n\u001b[0;32m-> 1031\u001b[0m         \u001b[38;5;28;01mraise\u001b[39;00m \u001b[38;5;167;01mValueError\u001b[39;00m(\n\u001b[1;32m   1032\u001b[0m             \u001b[38;5;124m'\u001b[39m\u001b[38;5;124mThe dimension of bins must be equal to the dimension of the \u001b[39m\u001b[38;5;124m'\u001b[39m\n\u001b[1;32m   1033\u001b[0m             \u001b[38;5;124m'\u001b[39m\u001b[38;5;124m sample x.\u001b[39m\u001b[38;5;124m'\u001b[39m)\n\u001b[1;32m   1034\u001b[0m \u001b[38;5;28;01mexcept\u001b[39;00m \u001b[38;5;167;01mTypeError\u001b[39;00m:\n\u001b[1;32m   1035\u001b[0m     \u001b[38;5;66;03m# bins is an integer\u001b[39;00m\n\u001b[1;32m   1036\u001b[0m     bins \u001b[38;5;241m=\u001b[39m D\u001b[38;5;241m*\u001b[39m[bins]\n",
      "\u001b[0;31mValueError\u001b[0m: The dimension of bins must be equal to the dimension of the  sample x."
     ]
    },
    {
     "data": {
      "image/png": "[encoded data removed]",
      "text/plain": [
       "<Figure size 640x480 with 1 Axes>"
      ]
     },
     "metadata": {},
     "output_type": "display_data"
    }
   ],
   "source": [
    "def hist_2d(x,y,num_bins):   \n",
    "    # Big bins\n",
    "    plt.hist2d(x, y, bins=(50, 50), cmap=plt.cm.jet)\n",
    "    plt.show()\n",
    "\n",
    "#     # Small bins\n",
    "#     plt.hist2d(x, y, bins=(300, 300), cmap=plt.cm.jet)\n",
    "#     plt.show()\n",
    "\n",
    "#     # If you do not set the same values for X and Y, the bins won't be a square!\n",
    "#     plt.hist2d(x, y, bins=(300, 30), cmap=plt.cm.jet)\n",
    "#     plt.show()\n",
    "\n",
    "hist_2d(ABCs, BCDs, 25)"
   ]
  },
  {
   "cell_type": "code",
   "execution_count": 8,
   "id": "5d753c00",
   "metadata": {},
   "outputs": [
    {
     "data": {
      "image/png": "[encoded data removed]",
      "text/plain": [
       "<Figure size 640x480 with 1 Axes>"
      ]
     },
     "metadata": {},
     "output_type": "display_data"
    },
    {
     "data": {
      "text/plain": [
       "tensor([0.1380, 0.1734, 0.4873, 0.6518, 0.7458, 0.4338])"
      ]
     },
     "execution_count": 8,
     "metadata": {},
     "output_type": "execute_result"
    }
   ],
   "source": [
    "def plot_histogram_data(data, bins=20):\n",
    "    plt.clf()\n",
    "    r = [x.item() for x in [data.mean()-data.std()*3, data.mean()+data.std()*3]]\n",
    "    plt.hist(data, bins=bins, range=r, alpha=0.5)\n",
    "    plt.show()\n",
    "    \n",
    "def histogram_scoring_function(data, bins=25):\n",
    "    hist_vals, bin_edges = torch.histogram(data, bins)\n",
    "    hist_vals = hist_vals / max(hist_vals)\n",
    "    \n",
    "    def hist_score(values): \n",
    "        buckets = torch.bucketize(values, bin_edges)\n",
    "        buckets[buckets == 0] = 1\n",
    "        buckets[buckets > hist_vals.size(0)] = hist_vals.size(0)\n",
    "        buckets = buckets-1\n",
    "\n",
    "        return hist_vals[buckets]\n",
    "    \n",
    "    return hist_score\n",
    "\n",
    "def get_atom_d_score_function(spatial_distances, \n",
    "                              edge_distances, \n",
    "                              bins=25, \n",
    "                              max_ed=10):\n",
    "    \n",
    "    hist_score_functions = [histogram_scoring_function(spatial_distances[torch.where(edge_distances==i)[0]], bins) \n",
    "                           for i in range(1, max_ed)]\n",
    "\n",
    "    def df(spatial_dist, edge_dist):\n",
    "        return hist_score_functions[edge_dist-1](spatial_dist)\n",
    "    \n",
    "    return df\n",
    "\n",
    "\n",
    "sd_obs = torch.tensor(spatial_d_obs)\n",
    "\n",
    "ed_obs = torch.tensor(edge_d_obs)\n",
    "\n",
    "atom_d_score = get_atom_d_score_function(sd_obs, ed_obs)\n",
    "\n",
    "ed_test_i = 7 \n",
    "plot_histogram_data(sd_obs[torch.where(ed_obs==ed_test_i)[0]], 100)\n",
    "atom_d_score(torch.arange(4,10), ed_test_i)"
   ]
  },
  {
   "cell_type": "code",
   "execution_count": 5,
   "id": "ade0471a",
   "metadata": {},
   "outputs": [],
   "source": [
    "pl_pairs = []\n",
    "\n",
    "for pi, pocket_embed_f in enumerate(glob(pocket_embeds_dir + '*.pyg')):\n",
    "    p_pdb_id = pocket_embed_f.split('/')[-1].split('_')[0]\n",
    "    \n",
    "    for ligand_embed_f in glob(active_embeds_dir + '*.pyg'):\n",
    "        if p_pdb_id in ligand_embed_f:\n",
    "            pl_pairs.append((torch.load(pocket_embed_f), \n",
    "                             torch.load(ligand_embed_f)))\n",
    "            "
   ]
  },
  {
   "cell_type": "code",
   "execution_count": 6,
   "id": "6b85a2df",
   "metadata": {},
   "outputs": [],
   "source": [
    "device = torch.device('cuda' if torch.cuda.is_available() else 'cpu')\n",
    "\n",
    "def all_pairs_cos(a,b):\n",
    "    with torch.no_grad():\n",
    "        cos = torch.nn.CosineSimilarity(dim=2)\n",
    "        a = a.unsqueeze(1).to(device)\n",
    "        b = b.unsqueeze(0).to(device)\n",
    "        return(cos(a,b).cpu())\n",
    "    \n",
    "def cos_dist(a,b):\n",
    "    return 1 - all_pairs_cos(a,b)\n",
    "\n",
    "def a_in_b_mask(a, b):\n",
    "    a_exp = a.unsqueeze(1)\n",
    "    b_exp = b.unsqueeze(0)\n",
    "    return torch.any(a_exp == b_exp, dim=1)\n",
    "\n",
    "def get_n_closest(a, b, n, dist_func=cos_dist):\n",
    "    d_vals, d_index = torch.sort(dist_func(a,b))\n",
    "    return d_vals[:,:n], d_index[:,:n]\n",
    "\n",
    "def get_k_hop_neighborhoods(mol, atom_idx, max_k):\n",
    "    k_hop_neighborhoods = []\n",
    "    observed_atoms = torch.tensor([atom_idx])\n",
    "    \n",
    "    for k in range(1, max_k+1):\n",
    "        within_k = k_hop_subgraph(atom_idx, k, mol.edge_index)[0]\n",
    "        k_hop_neighbors = torch.tensor(np.setdiff1d(within_k, observed_atoms))\n",
    "        \n",
    "        if k_hop_neighbors.size(0) == 0:\n",
    "            break\n",
    "            \n",
    "        observed_atoms = torch.hstack((observed_atoms, k_hop_neighbors))\n",
    "        k_hop_neighborhoods.append(k_hop_neighbors)\n",
    "        \n",
    "    return k_hop_neighborhoods\n"
   ]
  },
  {
   "cell_type": "code",
   "execution_count": 155,
   "id": "c1b735bf",
   "metadata": {},
   "outputs": [
    {
     "name": "stdout",
     "output_type": "stream",
     "text": [
      "0\n",
      "1\n",
      "2\n",
      "3\n",
      "4\n",
      "5\n",
      "6\n",
      "7\n",
      "8\n",
      "9\n",
      "10\n",
      "11\n",
      "12\n",
      "13\n",
      "14\n",
      "15\n",
      "16\n",
      "17\n",
      "18\n",
      "19\n",
      "20\n",
      "21\n",
      "22\n",
      "23\n",
      "24\n",
      "25\n",
      "26\n",
      "27\n",
      "28\n",
      "29\n",
      "30\n",
      "31\n",
      "32\n",
      "33\n",
      "34\n",
      "35\n",
      "36\n",
      "37\n",
      "38\n",
      "39\n",
      "40\n",
      "41\n",
      "42\n",
      "43\n",
      "44\n",
      "45\n",
      "46\n",
      "47\n",
      "48\n",
      "49\n",
      "50\n",
      "51\n",
      "52\n",
      "53\n",
      "54\n",
      "55\n",
      "56\n",
      "57\n",
      "58\n",
      "59\n",
      "60\n",
      "61\n",
      "62\n",
      "63\n",
      "64\n",
      "65\n",
      "66\n",
      "67\n",
      "68\n",
      "69\n",
      "70\n",
      "71\n",
      "72\n",
      "73\n",
      "74\n",
      "75\n",
      "76\n",
      "77\n",
      "78\n",
      "79\n",
      "80\n",
      "81\n",
      "82\n",
      "83\n",
      "84\n",
      "85\n",
      "86\n",
      "87\n",
      "88\n",
      "89\n",
      "90\n",
      "91\n",
      "92\n",
      "93\n",
      "94\n",
      "95\n",
      "96\n",
      "97\n",
      "98\n",
      "99\n",
      "100\n",
      "101\n",
      "102\n",
      "103\n",
      "104\n",
      "105\n",
      "106\n",
      "107\n",
      "108\n",
      "109\n",
      "110\n",
      "111\n",
      "112\n",
      "113\n",
      "114\n",
      "115\n",
      "116\n",
      "117\n",
      "118\n",
      "119\n",
      "120\n",
      "121\n",
      "122\n",
      "123\n",
      "124\n",
      "125\n",
      "126\n",
      "127\n",
      "128\n",
      "129\n",
      "130\n",
      "131\n",
      "132\n",
      "133\n",
      "134\n",
      "135\n",
      "136\n",
      "137\n",
      "138\n",
      "139\n",
      "140\n",
      "141\n",
      "142\n",
      "143\n",
      "144\n",
      "145\n"
     ]
    }
   ],
   "source": [
    "def id_interaction_points(pg, eval_data):\n",
    "    pocket_point_score = torch.zeros(pg.x.size(0))  \n",
    "    pocket_point_mean = torch.zeros_like(pg.x)\n",
    "    \n",
    "    for bi, b in enumerate(eval_data):\n",
    "        print(bi)\n",
    "        p_neighbor_dist, p_neighbor_idx = get_n_closest(b.x, pg.x, 5)\n",
    "        true_neighbors = torch.where(p_neighbor_dist < 0.1)\n",
    "        \n",
    "        for m_idx in torch.unique(true_neighbors[0]):\n",
    "            closest_idx = true_neighbors[1][true_neighbors[0]==m_idx]\n",
    "            p_idx = p_neighbor_idx[m_idx, closest_idx]\n",
    "            \n",
    "            pocket_point_score[p_idx] += 1\n",
    "            pocket_point_mean[p_idx] += b.x[m_idx]\n",
    "            \n",
    "    \n",
    "    return pocket_point_score, pocket_point_mean\n",
    "    \n",
    "ps, pm = id_interaction_points(pl_pairs[123][0], pdbbind_batch)"
   ]
  },
  {
   "cell_type": "code",
   "execution_count": 156,
   "id": "85bff946",
   "metadata": {},
   "outputs": [
    {
     "data": {
      "text/plain": [
       "<BarContainer object of 1365 artists>"
      ]
     },
     "execution_count": 156,
     "metadata": {},
     "output_type": "execute_result"
    },
    {
     "data": {
      "image/png": "[encoded data removed]",
      "text/plain": [
       "<Figure size 640x480 with 1 Axes>"
      ]
     },
     "metadata": {},
     "output_type": "display_data"
    }
   ],
   "source": [
    "plt.bar(range(len(ps)), ps, color='blue', alpha=0.7)"
   ]
  },
  {
   "cell_type": "code",
   "execution_count": 211,
   "id": "5d4e3d37",
   "metadata": {},
   "outputs": [
    {
     "data": {
      "image/png": "[encoded data removed]",
      "text/plain": [
       "<Figure size 640x480 with 1 Axes>"
      ]
     },
     "metadata": {},
     "output_type": "display_data"
    }
   ],
   "source": [
    "best_indices = torch.sort(ps, descending=True).indices[:500]\n",
    "mean_embeds = pm[best_indices] / ps[best_indices].unsqueeze(1)\n",
    "\n",
    "bins = plt.hist2d(dim1.numpy(), dim2.numpy(), bins=100)"
   ]
  },
  {
   "cell_type": "code",
   "execution_count": 62,
   "id": "6ba3785a",
   "metadata": {},
   "outputs": [
    {
     "data": {
      "text/plain": [
       "464"
      ]
     },
     "execution_count": 62,
     "metadata": {},
     "output_type": "execute_result"
    }
   ],
   "source": [
    "torch.where(ps > 0)[0].size(0)"
   ]
  },
  {
   "cell_type": "code",
   "execution_count": 52,
   "id": "778cf5df",
   "metadata": {},
   "outputs": [
    {
     "name": "stdout",
     "output_type": "stream",
     "text": [
      "tensor([[ 0,  0,  0,  0,  1,  1,  2,  2,  3,  3,  4,  4,  4,  5,  5,  5,  6,  6,\n",
      "          7,  7,  8,  8,  8,  9,  9, 10, 10, 11, 11, 12, 12, 12, 13, 13, 14, 15,\n",
      "         16, 17, 18, 19],\n",
      "        [ 1,  5, 15, 16,  0,  2,  1,  3,  2,  4,  3,  5, 17,  0,  4,  6,  5,  7,\n",
      "          6,  8,  7,  9, 18,  8, 10,  9, 11, 10, 12, 11, 13, 19, 12, 14, 13,  0,\n",
      "          0,  4,  8, 12]])\n",
      "tensor([[ 0,  0,  0,  1,  1,  1,  1,  2,  2,  3,  3,  3,  4,  4,  4,  5,  5,  5,\n",
      "          5,  5,  5,  6,  6,  6,  7,  7,  7,  8,  8,  9,  9,  9, 10, 10, 11, 11,\n",
      "         11, 12, 12, 13, 13, 14, 15, 15, 15, 16, 16, 16, 17, 17, 18, 18, 19, 19],\n",
      "        [ 2,  4,  6,  3,  5, 15, 16,  0,  4,  1,  5, 17,  0,  2,  6,  1,  3,  7,\n",
      "         15, 16, 17,  0,  4,  8,  5,  9, 18,  6, 10,  7, 11, 18,  8, 12,  9, 13,\n",
      "         19, 10, 14, 11, 19, 12,  1,  5, 16,  1,  5, 15,  3,  5,  7,  9, 11, 13]])\n",
      "tensor([[ 0,  0,  0,  1,  1,  2,  2,  2,  2,  3,  3,  4,  4,  4,  4,  5,  5,  6,\n",
      "          6,  6,  6,  6,  6,  6,  7,  7,  7,  8,  8,  9,  9, 10, 10, 10, 10, 11,\n",
      "         11, 12, 13, 14, 14, 15, 15, 15, 16, 16, 16, 17, 17, 17, 18, 18, 19, 19],\n",
      "        [ 3,  7, 17,  4,  6,  5, 15, 16, 17,  0,  6,  1,  7, 15, 16,  2,  8,  1,\n",
      "          3,  9, 15, 16, 17, 18,  0,  4, 10,  5, 11,  6, 12,  7, 13, 18, 19,  8,\n",
      "         14,  9, 10, 11, 19,  2,  4,  6,  2,  4,  6,  0,  2,  6,  6, 10, 10, 14]])\n"
     ]
    }
   ],
   "source": [
    "def find_k_hop_neighbors(g, k):\n",
    "    edge_index = g.edge_index\n",
    "    num_nodes = g.x.size(0)\n",
    "    # Convert edge_index to dense adjacency matrix\n",
    "    adj = to_dense_adj(edge_index, max_num_nodes=num_nodes)[0]\n",
    "    # Identity matrix to start the multiplication (A^0)\n",
    "    prev = torch.eye(num_nodes, dtype=torch.bool, device=edge_index.device)\n",
    "\n",
    "    # List to hold edge indices for k hops\n",
    "    hop_pairs = []\n",
    "\n",
    "    for _ in range(k):\n",
    "        # Multiply previous power with adjacency matrix (A^k)\n",
    "        next_adj = torch.matmul(adj.float(), prev.float())\n",
    "        # Get pairs that are exactly k-hops away (nonzero entries in next_adj that were zero in prev)\n",
    "        next_adj = (next_adj > 0) & ~prev\n",
    "        # Update previous adjacency to include paths of length <= k\n",
    "        prev = prev | next_adj.bool()\n",
    "        # Convert to edge_index format\n",
    "        hop_pairs.append(dense_to_sparse(next_adj)[0])\n",
    "\n",
    "    return hop_pairs\n",
    "\n",
    "def get_hop_pairs(data, max_hops=4):\n",
    "    num_nodes = data.num_nodes\n",
    "    hop_data = []\n",
    "\n",
    "    # Calculate pairs for each hop from 1 to max_hops\n",
    "    hop_pairs = find_k_hop_neighbors(data.edge_index, num_nodes, max_hops)\n",
    "    \n",
    "    # Process pairs into the required format\n",
    "    for hop in range(max_hops):\n",
    "        if len(hop_pairs[hop][0]) == 0:\n",
    "            # Handle graphs with isolated components or small number of nodes\n",
    "            hop_data.append(torch.empty((0, 2), dtype=torch.long))\n",
    "        else:\n",
    "            pairs = torch.stack(hop_pairs[hop], dim=1)\n",
    "            hop_data.append(pairs)\n",
    "\n",
    "    # Stack along new dimension to get a tensor of shape [max_hops, N_k, 2]\n",
    "    return torch.stack(hop_data)\n",
    "\n",
    "def print_matrix(m):\n",
    "    for r in m:\n",
    "        print(' '.join(['%s' % x for x in r.int().tolist()]))\n",
    "\n",
    "\n",
    "mg = pl_pairs[8][1]\n",
    "\n",
    "for r in find_k_hop_neighbors(mg, 3):\n",
    "    print(r)\n"
   ]
  },
  {
   "cell_type": "code",
   "execution_count": 237,
   "id": "c24dc490",
   "metadata": {},
   "outputs": [],
   "source": [
    "def construct_directed_graph(pg, mg, n=15, edge_k=3, min_d_score=0.7):\n",
    "    x, p_indices = get_n_closest(mg.x, pg.x, n) \n",
    "    x = x.flatten()\n",
    "    \n",
    "    structured_index = torch.arange(x.size(0)).reshape(mg.x.size(0),-1)\n",
    "    \n",
    "    pos = pg.pos[p_indices].reshape(-1, 3)\n",
    "    \n",
    "    ei_segments = []\n",
    "    ea = []\n",
    "    \n",
    "    k_i = 0\n",
    "    \n",
    "    for k_hop_pairs in find_k_hop_neighbors(mg, edge_k):\n",
    "        k_i += 1\n",
    "        \n",
    "        mask = k_hop_pairs[1] - k_hop_pairs[0]\n",
    "        mask[mask < 0] = 0\n",
    "        mask = mask.bool()\n",
    "        \n",
    "        k_hop_pairs = k_hop_pairs[:, mask]\n",
    "        \n",
    "        k_source_pos = pos[structured_index[k_hop_pairs[0]]]\n",
    "        k_sink_pos = pos[structured_index[k_hop_pairs[1]]]\n",
    "        \n",
    "        spatial_dist = torch.norm(k_source_pos.unsqueeze(2) - k_sink_pos.unsqueeze(1), dim=3)\n",
    "        distance_scores = atom_d_score(spatial_dist, k_i) \n",
    "        \n",
    "        i,j,l = torch.where(distance_scores > min_d_score)\n",
    "        \n",
    "        ei_segments.append(torch.vstack((k_hop_pairs[0,i]*n + j, \n",
    "                                         k_hop_pairs[1,i]*n + l)))\n",
    "        \n",
    "        ea.append(1-x[k_hop_pairs[1,i]*n + l])\n",
    "            \n",
    "    x = torch.hstack((torch.tensor(0), x, torch.tensor(0)))\n",
    "    pos = torch.vstack((torch.tensor([[0,0,0]]), pos, torch.tensor([[0,0,0]])))\n",
    "    ei = torch.hstack(ei_segments)+1\n",
    "    ea = torch.hstack(ea)\n",
    "#     ea[ea == 0] = -1\n",
    "    \n",
    "    start_sinks = structured_index[0]+1\n",
    "    start_edges = torch.vstack((torch.zeros(start_sinks.size(0)), start_sinks))\n",
    "    start_ea = 1-x[start_sinks]\n",
    "    \n",
    "#     stop_sources = torch.where(batch==batch.max())[0]+1\n",
    "    stop_sources = torch.arange(1, x.size(0)-1)\n",
    "    stop_edges = torch.vstack((stop_sources, \n",
    "                               torch.zeros(stop_sources.size(0)).fill_(x.size(0)-1)))\n",
    "    \n",
    "    stop_ea = torch.zeros(stop_sources.size(0))\n",
    "    \n",
    "    ei = torch.hstack((ei, start_edges, stop_edges))\n",
    "    ea = torch.hstack((ea, start_ea, stop_ea))\n",
    "    \n",
    "    return Data(x=x, edge_index=ei, weight=-1*ea, pos=pos)\n",
    "\n",
    "p_i = 0    \n",
    "\n",
    "def get_edge(source, sink, ei):\n",
    "    source_idx = torch.where(ei[0]==source)[0]\n",
    "    sink_idx = torch.where(ei[1]==sink)[0]\n",
    "    return torch.tensor(np.intersect1d(source_idx,sink_idx))\n",
    "\n",
    "def get_pm_score(p, m):\n",
    "    x, ei, ea = construct_directed_graph(p,m)\n",
    "    \n",
    "    data = Data(edge_index=ei, weight=ea, num_nodes=x.size(0))\n",
    "    g = torch_geometric.utils.to_networkx(data, edge_attrs=['weight'])\n",
    "    bf_out = nx.bellman_ford_path(g, 0, ei[1].max().item())\n",
    "    \n",
    "    scores = []\n",
    "    \n",
    "    for i in range(len(bf_out)-1):\n",
    "        scores.append(ea[get_edge(bf_out[i], bf_out[i+1], ei)].min().item())\n",
    "        \n",
    "    \n",
    "#     print(scores)\n",
    "    return -1*(sum(scores) / len(scores))\n",
    "    \n",
    "scoores = []\n",
    "pgraphs = []\n",
    "ngraphs = []\n",
    "\n",
    "# for p,m in pl_pairs:\n",
    "#     p_i += 1\n",
    "#     p_score = get_pm_score(p,m)\n",
    "#     n_scores = []\n",
    "    \n",
    "#     rs = random.sample(decoy_embeds, 250)\n",
    "#     for d in rs:\n",
    "#         nsc = get_pm_score(p, d)\n",
    "#         n_scores.append(nsc)\n",
    "        \n",
    "#     n_scores = torch.tensor(n_scores)\n",
    "    \n",
    "#     final_score = 1-(n_scores[n_scores > p_score].size(0) / n_scores.size(0))\n",
    "#     print(final_score)\n",
    "#     scoores.append(final_score)\n",
    "#     print('--', sum(scoores) / len(scoores))\n",
    "#     print('---')\n"
   ]
  },
  {
   "cell_type": "code",
   "execution_count": 253,
   "id": "5d100bb3",
   "metadata": {},
   "outputs": [],
   "source": [
    "pdists = []\n",
    "ndists = []\n",
    "\n",
    "def get_bf_path_data(dag, m_count):\n",
    "    structured_ppos = dag.pos[1:-1].reshape(m_count, -1, 3)\n",
    "    \n",
    "    avg_dist = torch.norm(structured_ppos.unsqueeze(2) -\n",
    "                          structured_ppos.unsqueeze(1), dim=3).mean(dim=2).flatten()\n",
    "    \n",
    "    dag_nx = torch_geometric.utils.to_networkx(dag, edge_attrs=['weight'])\n",
    "    bf_out = torch.tensor(nx.bellman_ford_path(dag_nx, 0, dag.edge_index[1].max().item())).long()[1:-1]\n",
    "    \n",
    "    if bf_out[-1] < avg_dist.size(0):\n",
    "        return avg_dist[bf_out[1:-1]]\n",
    "    \n",
    "    return None\n",
    "    \n",
    "for p,m in pl_pairs:\n",
    "    dag = construct_directed_graph(p, m, n=15, edge_k=3, min_d_score=0.7)\n",
    "    dist_data = get_bf_path_data(dag, m.x.size(0))\n",
    "    if dist_data is not None:\n",
    "        pdists.append(dist_data)\n",
    "    \n",
    "    rs = random.sample(decoy_embeds, 250)\n",
    "    for d in rs:\n",
    "        ndag = construct_directed_graph(p, d, n=15, edge_k=3, min_d_score=0.7)\n",
    "        ndist_data = get_bf_path_data(ndag, d.x.size(0))\n",
    "        \n",
    "        if ndist_data is not None:\n",
    "            ndists.append(ndist_data)\n",
    "        break\n",
    "        \n",
    "pdists = torch.hstack(pdists)\n",
    "ndists = torch.hstack(ndists)"
   ]
  },
  {
   "cell_type": "code",
   "execution_count": 248,
   "id": "89f958e5",
   "metadata": {},
   "outputs": [],
   "source": [
    "pdists = torch.hstack(pdists)\n",
    "ndists = torch.hstack(ndists)"
   ]
  },
  {
   "cell_type": "code",
   "execution_count": 257,
   "id": "9a6a399e",
   "metadata": {},
   "outputs": [
    {
     "data": {
      "image/png": "[encoded data removed]",
      "text/plain": [
       "<Figure size 640x480 with 1 Axes>"
      ]
     },
     "metadata": {},
     "output_type": "display_data"
    }
   ],
   "source": [
    "plot_histogram_data(pdists, bins=100)"
   ]
  },
  {
   "cell_type": "code",
   "execution_count": 256,
   "id": "699a1236",
   "metadata": {},
   "outputs": [
    {
     "data": {
      "image/png": "[encoded data removed]",
      "text/plain": [
       "<Figure size 640x480 with 1 Axes>"
      ]
     },
     "metadata": {},
     "output_type": "display_data"
    }
   ],
   "source": [
    "plot_histogram_data(ndists, bins=100)"
   ]
  },
  {
   "cell_type": "code",
   "execution_count": 182,
   "id": "33515f3c",
   "metadata": {},
   "outputs": [
    {
     "data": {
      "image/png": "[encoded data removed]",
      "text/plain": [
       "<Figure size 640x480 with 1 Axes>"
      ]
     },
     "metadata": {},
     "output_type": "display_data"
    }
   ],
   "source": [
    "plot_histogram_data(p_NE_distances[:100000], bins=100)"
   ]
  },
  {
   "cell_type": "code",
   "execution_count": 183,
   "id": "1385d3a2",
   "metadata": {},
   "outputs": [
    {
     "data": {
      "image/png": "[encoded data removed]",
      "text/plain": [
       "<Figure size 640x480 with 1 Axes>"
      ]
     },
     "metadata": {},
     "output_type": "display_data"
    }
   ],
   "source": [
    "plot_histogram_data(n_NE_distances[:100000], bins=100)"
   ]
  },
  {
   "cell_type": "code",
   "execution_count": 179,
   "id": "875a0ee9",
   "metadata": {},
   "outputs": [
    {
     "name": "stdout",
     "output_type": "stream",
     "text": [
      "tensor([ 1.4142,  4.0000,  1.0000,  1.0000, 12.9615, 12.7279,  1.7321,  3.0000,\n",
      "         1.0000,  2.0000,  1.4142, 12.4499, 12.3693,  2.2361,  1.4142,  4.2426,\n",
      "         1.7321,  1.0000, 13.1909, 12.2474,  1.0000,  3.3166,  2.2361,  1.4142,\n",
      "         1.4142, 11.8743, 11.8743,  1.0000,  4.0000,  4.2426,  3.0000,  4.1231,\n",
      "        12.9615, 11.7473,  3.3166,  1.0000,  4.1231,  4.4721,  5.0990, 11.4455,\n",
      "        11.7047,  4.5826,  1.0000,  1.7321,  3.0000,  1.4142, 12.8452, 12.3693,\n",
      "         1.4142,  2.0000,  1.4142,  2.2361,  2.2361, 12.0830, 12.0830,  2.4495,\n",
      "         1.0000,  1.0000,  4.1231,  1.4142, 12.3693, 11.8743,  1.4142,  3.1623,\n",
      "         1.4142,  1.0000,  1.0000, 11.5758, 11.4891,  1.4142, 12.9615, 13.1909,\n",
      "        12.9615, 12.8452, 12.3693,  7.3485, 13.0767, 12.8452, 12.2066, 11.8322,\n",
      "        12.5698,  8.1854,  7.0000, 12.6886, 12.7279, 12.2474, 11.7473, 12.3693,\n",
      "        11.8743,  7.3485, 11.8743, 11.8743, 12.4499, 11.0454, 12.3288,  1.0000,\n",
      "         1.0000, 11.4455,  1.7321,  1.0000]) tensor([ 1.4142,  4.0000,  1.0000,  1.0000, 12.9615, 12.7279,  1.7321,  3.0000,\n",
      "         1.0000,  2.0000,  1.4142, 12.4499, 12.3693,  2.2361,  1.4142,  4.2426,\n",
      "         1.7321,  1.0000, 13.1909, 12.2474,  1.0000,  3.3166,  2.2361,  1.4142,\n",
      "         1.4142, 11.8743, 11.8743,  1.0000,  4.0000,  4.2426,  3.0000,  4.1231,\n",
      "        12.9615, 11.7473,  3.3166,  1.0000,  4.1231,  4.4721,  5.0990, 11.4455,\n",
      "        11.7047,  4.5826,  1.0000,  1.7321,  3.0000,  1.4142, 12.8452, 12.3693,\n",
      "         1.4142,  2.0000,  1.4142,  2.2361,  2.2361, 12.0830, 12.0830,  2.4495,\n",
      "         1.0000,  1.0000,  4.1231,  1.4142, 12.3693, 11.8743,  1.4142,  3.1623,\n",
      "         1.4142,  1.0000,  1.0000, 11.5758, 11.4891,  1.4142, 12.9615, 13.1909,\n",
      "        12.9615, 12.8452, 12.3693,  7.3485, 13.0767, 12.8452, 12.2066, 11.8322,\n",
      "        12.5698,  8.1854,  7.0000, 12.6886, 12.7279, 12.2474, 11.7473, 12.3693,\n",
      "        11.8743,  7.3485, 11.8743, 11.8743, 12.4499, 11.0454, 12.3288,  1.0000,\n",
      "         1.0000, 11.4455,  1.7321,  1.0000])\n"
     ]
    }
   ],
   "source": [
    "print(n_NE_distances[:100], p_NE_distances[:100])"
   ]
  },
  {
   "cell_type": "code",
   "execution_count": 104,
   "id": "2e017a04",
   "metadata": {},
   "outputs": [
    {
     "name": "stdout",
     "output_type": "stream",
     "text": [
      "tensor([[ 0,  1,  2],\n",
      "        [ 3,  4,  5],\n",
      "        [ 6,  7,  8],\n",
      "        [ 9, 10, 11],\n",
      "        [12, 13, 14]]) tensor([[0.0000, 0.5000, 1.0000],\n",
      "        [1.5000, 2.0000, 2.5000],\n",
      "        [3.0000, 3.5000, 4.0000],\n",
      "        [4.5000, 5.0000, 5.5000],\n",
      "        [6.0000, 6.5000, 7.0000]])\n"
     ]
    },
    {
     "data": {
      "text/plain": [
       "torch.Size([14, 5, 5])"
      ]
     },
     "execution_count": 104,
     "metadata": {},
     "output_type": "execute_result"
    }
   ],
   "source": [
    "a = torch.arange(14*5*3).reshape(14,5,3)\n",
    "b = torch.arange(14*5*3).reshape(14,5,3) / 2\n",
    "\n",
    "print(a[0],b[0])\n",
    "\n",
    "torch.norm(a.unsqueeze(2) - b.unsqueeze(1), dim=3).shape"
   ]
  },
  {
   "cell_type": "code",
   "execution_count": 10,
   "id": "e19c0fb0",
   "metadata": {},
   "outputs": [
    {
     "name": "stdout",
     "output_type": "stream",
     "text": [
      "tensor([[  0.,   1.,   2.,   3.,   4.,   5.,   6.,   7.,   8.,   9.,  10.,  11.,\n",
      "          12.,  13.,  14.,  15.,  16.,  17.,  18.,  19.,  20.,  21.,  22.,  23.,\n",
      "          24.,  25.,  26.,  27.,  28.,  29.,  30.,  31.,  32.,  33.,  34.,  35.,\n",
      "          36.,  37.,  38.,  39.,  40.,  41.,  42.,  43.,  44.,  45.,  46.,  47.,\n",
      "          48.,  49.,  50.,  51.,  52.,  53.,  54.,  55.,  56.,  57.,  58.,  59.,\n",
      "          60.,  61.,  62.,  63.,  64.,  65.,  66.,  67.,  68.,  69.,  70.,  71.,\n",
      "          72.,  73.,  74.,  75.,  76.,  77.,  78.,  79.,  80.,  81.,  82.,  83.,\n",
      "          84.,  85.,  86.,  87.,  88.,  89.,  90.,  91.,  92.,  93.,  94.,  95.,\n",
      "          96.,  97.,  98.,  99., 100., 101., 102., 103., 104., 105., 106., 107.,\n",
      "         108., 109., 110., 111., 112., 113., 114., 115., 116., 117., 118., 119.,\n",
      "         120., 121., 122., 123., 124., 125., 126., 127., 128., 129., 130., 131.,\n",
      "         132., 133., 134., 135., 136., 137., 138., 139., 140., 141., 142., 143.,\n",
      "         144., 145., 146., 147., 148., 149., 150., 151., 152., 153., 154., 155.,\n",
      "         156., 157., 158., 159., 160., 161., 162., 163., 164., 165., 166., 167.,\n",
      "         168., 169., 170., 171., 172., 173., 174., 175., 176., 177., 178., 179.,\n",
      "         180., 181., 182., 183., 184., 185., 186., 187., 188., 189., 190., 191.,\n",
      "         192., 193., 194., 195.],\n",
      "        [196., 196., 196., 196., 196., 196., 196., 196., 196., 196., 196., 196.,\n",
      "         196., 196., 196., 196., 196., 196., 196., 196., 196., 196., 196., 196.,\n",
      "         196., 196., 196., 196., 196., 196., 196., 196., 196., 196., 196., 196.,\n",
      "         196., 196., 196., 196., 196., 196., 196., 196., 196., 196., 196., 196.,\n",
      "         196., 196., 196., 196., 196., 196., 196., 196., 196., 196., 196., 196.,\n",
      "         196., 196., 196., 196., 196., 196., 196., 196., 196., 196., 196., 196.,\n",
      "         196., 196., 196., 196., 196., 196., 196., 196., 196., 196., 196., 196.,\n",
      "         196., 196., 196., 196., 196., 196., 196., 196., 196., 196., 196., 196.,\n",
      "         196., 196., 196., 196., 196., 196., 196., 196., 196., 196., 196., 196.,\n",
      "         196., 196., 196., 196., 196., 196., 196., 196., 196., 196., 196., 196.,\n",
      "         196., 196., 196., 196., 196., 196., 196., 196., 196., 196., 196., 196.,\n",
      "         196., 196., 196., 196., 196., 196., 196., 196., 196., 196., 196., 196.,\n",
      "         196., 196., 196., 196., 196., 196., 196., 196., 196., 196., 196., 196.,\n",
      "         196., 196., 196., 196., 196., 196., 196., 196., 196., 196., 196., 196.,\n",
      "         196., 196., 196., 196., 196., 196., 196., 196., 196., 196., 196., 196.,\n",
      "         196., 196., 196., 196., 196., 196., 196., 196., 196., 196., 196., 196.,\n",
      "         196., 196., 196., 196.]])\n"
     ]
    },
    {
     "ename": "SystemExit",
     "evalue": "",
     "output_type": "error",
     "traceback": [
      "An exception has occurred, use %tb to see the full traceback.\n",
      "\u001b[0;31mSystemExit\u001b[0m\n"
     ]
    },
    {
     "name": "stderr",
     "output_type": "stream",
     "text": [
      "/home/u1/jgaiser/.conda/envs/vs-env/lib/python3.10/site-packages/IPython/core/interactiveshell.py:3441: UserWarning: To exit: use 'exit', 'quit', or Ctrl-D.\n",
      "  warn(\"To exit: use 'exit', 'quit', or Ctrl-D.\", stacklevel=1)\n"
     ]
    }
   ],
   "source": [
    "def construct_directed_graph(pg, mg, n=15, edge_k=2, min_d_score=0.25):\n",
    "    x, p_indices = get_n_closest(mg.x, pg.x, n) \n",
    "    x = x.flatten()\n",
    "    \n",
    "    pos = pg.pos[p_indices].reshape(-1, 3)\n",
    "    batch = torch.repeat_interleave(torch.arange(mg.x.size(0)), n, 0)\n",
    "    \n",
    "    ei_segments = []\n",
    "    ea = []\n",
    "    \n",
    "    \n",
    "    for ai in torch.unique(batch):\n",
    "        i_node_indices = torch.where(batch == ai)[0]\n",
    "        \n",
    "        for k, k_neighborhood in enumerate(get_k_hop_neighborhoods(mg, ai.item(), edge_k)):\n",
    "            j_node_indices = torch.where(a_in_b_mask(batch, k_neighborhood))[0]\n",
    "            \n",
    "            ij_distances = torch.cdist(pos[i_node_indices].to(device), \n",
    "                                       pos[j_node_indices].to(device)).cpu()\n",
    "            \n",
    "            # true k is NOT zero indexed\n",
    "            ij_scores = atom_d_score(ij_distances, k+1)\n",
    "            src, sink = torch.where(ij_scores > min_d_score)\n",
    "            \n",
    "            if src.size(0) == 0:\n",
    "                continue\n",
    "            \n",
    "            source_idx = i_node_indices[src]\n",
    "            sink_idx = j_node_indices[sink]\n",
    "            \n",
    "            directed_indices = torch.where(sink_idx > source_idx.max())[0]\n",
    "            ei_segments.append(torch.vstack((source_idx, sink_idx))[:, directed_indices])\n",
    "            \n",
    "#             # MODIFY BY ij_score??\n",
    "#             ea.append(1-x[sink_idx][directed_indices]*ij_scores[src[directed_indices], \n",
    "#                                                            sink[directed_indices]])\n",
    "            ea.append(1-x[sink_idx][directed_indices])\n",
    "            \n",
    "    x = torch.hstack((torch.tensor(0), x, torch.tensor(0)))\n",
    "    \n",
    "    ei = torch.hstack(ei_segments)+1\n",
    "    \n",
    "    ea = torch.hstack(ea)\n",
    "#     ea[ea == 0] = -1\n",
    "    \n",
    "    start_sinks = torch.where(batch==batch.min())[0]+1\n",
    "    start_edges = torch.vstack((torch.zeros(start_sinks.size(0)), start_sinks))\n",
    "    start_ea = 1-x[start_sinks]\n",
    "    \n",
    "#     stop_sources = torch.where(batch==batch.max())[0]+1\n",
    "    stop_sources = torch.arange(x.size(0)-1)\n",
    "    stop_edges = torch.vstack((stop_sources, \n",
    "                               torch.zeros(stop_sources.size(0)).fill_(x.size(0)-1)))\n",
    "    \n",
    "    stop_ea = torch.zeros(stop_sources.size(0))\n",
    "    \n",
    "    ei = torch.hstack((ei, start_edges, stop_edges))\n",
    "    ea = torch.hstack((ea, start_ea, stop_ea))\n",
    "    \n",
    "    return x, ei, -1*ea\n",
    "\n",
    "p_i = 0    \n",
    "\n",
    "def get_edge(source, sink, ei):\n",
    "    source_idx = torch.where(ei[0]==source)[0]\n",
    "    sink_idx = torch.where(ei[1]==sink)[0]\n",
    "    return torch.tensor(np.intersect1d(source_idx,sink_idx))\n",
    "\n",
    "def get_pm_score(p, m):\n",
    "    x, ei, ea = construct_directed_graph(p,m)\n",
    "    \n",
    "    data = Data(edge_index=ei, weight=ea, num_nodes=x.size(0))\n",
    "    g = torch_geometric.utils.to_networkx(data, edge_attrs=['weight'])\n",
    "    bf_out = nx.bellman_ford_path(g, 0, ei[1].max().item())\n",
    "    \n",
    "    scores = []\n",
    "    \n",
    "    for i in range(len(bf_out)-1):\n",
    "        scores.append(ea[get_edge(bf_out[i], bf_out[i+1], ei)].min().item())\n",
    "        \n",
    "    \n",
    "#     print(scores)\n",
    "    return -1*(sum(scores) / len(scores))\n",
    "    \n",
    "scoores = []\n",
    "\n",
    "for p,m in pl_pairs:\n",
    "    p_i += 1\n",
    "    p_score = get_pm_score(p,m)\n",
    "    n_scores = []\n",
    "    \n",
    "    rs = random.sample(decoy_embeds, 50)\n",
    "    \n",
    "    for d in rs:\n",
    "        nsc = get_pm_score(p, d)\n",
    "        graph_construction_time += ctime\n",
    "        total_time += ttime\n",
    "        n_scores.append(nsc)\n",
    "        \n",
    "    n_scores = torch.tensor(n_scores)\n",
    "    \n",
    "    final_score = 1-(n_scores[n_scores > p_score].size(0) / n_scores.size(0))\n",
    "    print(final_score)\n",
    "    scoores.append(final_score)\n",
    "    print('--', sum(scoores) / len(scoores))\n",
    "    print('---')\n",
    "    \n",
    "    "
   ]
  },
  {
   "cell_type": "code",
   "execution_count": null,
   "id": "132d9103",
   "metadata": {},
   "outputs": [],
   "source": [
    "# scores_3 = scoores"
   ]
  },
  {
   "cell_type": "code",
   "execution_count": 25,
   "id": "91991a72",
   "metadata": {
    "scrolled": true
   },
   "outputs": [
    {
     "name": "stdout",
     "output_type": "stream",
     "text": [
      "0.59\n",
      "0.59\n",
      "-----\n",
      "0.84875\n",
      "0.719375\n",
      "-----\n",
      "0.66875\n",
      "0.7025\n",
      "-----\n",
      "0.84375\n",
      "0.7378125\n",
      "-----\n",
      "0.9775\n",
      "0.78575\n",
      "-----\n"
     ]
    },
    {
     "ename": "KeyboardInterrupt",
     "evalue": "",
     "output_type": "error",
     "traceback": [
      "\u001b[0;31m---------------------------------------------------------------------------\u001b[0m",
      "\u001b[0;31mKeyboardInterrupt\u001b[0m                         Traceback (most recent call last)",
      "Cell \u001b[0;32mIn [25], line 25\u001b[0m\n\u001b[1;32m     23\u001b[0m neg_scores \u001b[38;5;241m=\u001b[39m []\n\u001b[1;32m     24\u001b[0m \u001b[38;5;28;01mfor\u001b[39;00m batch \u001b[38;5;129;01min\u001b[39;00m validation_batch: \n\u001b[0;32m---> 25\u001b[0m     neg_scores \u001b[38;5;241m+\u001b[39m\u001b[38;5;241m=\u001b[39m \u001b[43mscore_complex\u001b[49m\u001b[43m(\u001b[49m\u001b[43mp\u001b[49m\u001b[38;5;241;43m.\u001b[39;49m\u001b[43mx\u001b[49m\u001b[43m,\u001b[49m\u001b[43m \u001b[49m\u001b[43mbatch\u001b[49m\u001b[38;5;241;43m.\u001b[39;49m\u001b[43mx\u001b[49m\u001b[43m,\u001b[49m\u001b[43m \u001b[49m\u001b[43mbatch\u001b[49m\u001b[38;5;241;43m.\u001b[39;49m\u001b[43mbatch\u001b[49m\u001b[43m)\u001b[49m\n\u001b[1;32m     27\u001b[0m neg_scores \u001b[38;5;241m=\u001b[39m torch\u001b[38;5;241m.\u001b[39mtensor(neg_scores)\n\u001b[1;32m     28\u001b[0m final_score \u001b[38;5;241m=\u001b[39m torch\u001b[38;5;241m.\u001b[39mwhere(neg_scores \u001b[38;5;241m<\u001b[39m pos_score)[\u001b[38;5;241m0\u001b[39m]\u001b[38;5;241m.\u001b[39msize(\u001b[38;5;241m0\u001b[39m) \u001b[38;5;241m/\u001b[39m neg_scores\u001b[38;5;241m.\u001b[39msize(\u001b[38;5;241m0\u001b[39m)\n",
      "Cell \u001b[0;32mIn [25], line 8\u001b[0m, in \u001b[0;36mscore_complex\u001b[0;34m(p, m, batch)\u001b[0m\n\u001b[1;32m      7\u001b[0m \u001b[38;5;28;01mdef\u001b[39;00m \u001b[38;5;21mscore_complex\u001b[39m(p, m, batch\u001b[38;5;241m=\u001b[39m\u001b[38;5;28;01mNone\u001b[39;00m):\n\u001b[0;32m----> 8\u001b[0m     atom_cos \u001b[38;5;241m=\u001b[39m \u001b[43mtorch\u001b[49m\u001b[38;5;241;43m.\u001b[39;49m\u001b[43msort\u001b[49m\u001b[43m(\u001b[49m\u001b[43mall_pairs_cos\u001b[49m\u001b[43m(\u001b[49m\u001b[43mm\u001b[49m\u001b[43m,\u001b[49m\u001b[43m \u001b[49m\u001b[43mp\u001b[49m\u001b[43m)\u001b[49m\u001b[43m,\u001b[49m\u001b[43m \u001b[49m\u001b[43mdim\u001b[49m\u001b[38;5;241;43m=\u001b[39;49m\u001b[38;5;241;43m1\u001b[39;49m\u001b[43m,\u001b[49m\u001b[43m \u001b[49m\u001b[43mdescending\u001b[49m\u001b[38;5;241;43m=\u001b[39;49m\u001b[38;5;28;43;01mTrue\u001b[39;49;00m\u001b[43m)\u001b[49m\u001b[38;5;241m.\u001b[39mvalues[:, :\u001b[38;5;241m25\u001b[39m]\n\u001b[1;32m      9\u001b[0m     scores \u001b[38;5;241m=\u001b[39m []\n\u001b[1;32m     11\u001b[0m     \u001b[38;5;28;01mif\u001b[39;00m batch\u001b[38;5;241m==\u001b[39m\u001b[38;5;28;01mNone\u001b[39;00m:\n",
      "\u001b[0;31mKeyboardInterrupt\u001b[0m: "
     ]
    }
   ],
   "source": [
    "import time\n",
    "validation_batch = DataLoader(decoy_embeds, batch_size=64, shuffle=False)\n",
    "\n",
    "start = time.time()\n",
    "final_scores = []\n",
    "\n",
    "def score_complex(p, m, batch=None):\n",
    "    atom_cos = torch.sort(all_pairs_cos(m, p), dim=1, descending=True).values[:, :25]\n",
    "    scores = []\n",
    "    \n",
    "    if batch==None:\n",
    "        batch = torch.zeros(atom_cos.size(0))\n",
    "    \n",
    "    for bi in torch.unique(batch):\n",
    "        scores.append(atom_cos[torch.where(batch==bi)[0]].mean().item())\n",
    "        \n",
    "    return torch.tensor(scores)\n",
    "    \n",
    "\n",
    "for p,m in pl_pairs:\n",
    "    pos_score = score_complex(p.x, m.x).item()\n",
    "    \n",
    "    neg_scores = []\n",
    "    for batch in validation_batch: \n",
    "        neg_scores += score_complex(p.x, batch.x, batch.batch)\n",
    "        \n",
    "    neg_scores = torch.tensor(neg_scores)\n",
    "    final_score = torch.where(neg_scores < pos_score)[0].size(0) / neg_scores.size(0)\n",
    "    print(final_score)\n",
    "    final_scores.append(final_score)\n",
    "    print(sum(final_scores) / len(final_scores))\n",
    "    print('-----')"
   ]
  },
  {
   "cell_type": "code",
   "execution_count": 49,
   "id": "02651871",
   "metadata": {},
   "outputs": [
    {
     "data": {
      "image/png": "[encoded data removed]",
      "text/plain": [
       "<Figure size 640x480 with 1 Axes>"
      ]
     },
     "metadata": {},
     "output_type": "display_data"
    }
   ],
   "source": [
    "# cos_scores = final_scores    \n",
    "plot_histogram_data(torch.tensor(scoores), bins=100)"
   ]
  }
 ],
 "metadata": {
  "kernelspec": {
   "display_name": "vs-env",
   "language": "python",
   "name": "vs-env"
  },
  "language_info": {
   "codemirror_mode": {
    "name": "ipython",
    "version": 3
   },
   "file_extension": ".py",
   "mimetype": "text/x-python",
   "name": "python",
   "nbconvert_exporter": "python",
   "pygments_lexer": "ipython3",
   "version": "3.10.6"
  }
 },
 "nbformat": 4,
 "nbformat_minor": 5
}
