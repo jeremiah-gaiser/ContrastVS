{
 "cells": [
  {
   "cell_type": "code",
   "execution_count": 3,
   "id": "9ba26b6c",
   "metadata": {},
   "outputs": [],
   "source": [
    "import torch\n",
    "import torch_geometric\n",
    "import os\n",
    "from glob import glob\n",
    "import json\n",
    "from torch_geometric.nn import radius, knn\n",
    "import matplotlib.pyplot as plt\n",
    "from mpl_toolkits.mplot3d import Axes3D\n",
    "import numpy as np\n",
    "from torch_geometric.nn.pool import knn\n",
    "from torch_geometric.data import Data\n",
    "from torch_geometric.utils import k_hop_subgraph, to_undirected, subgraph\n",
    "import random\n",
    "from torch_geometric.data import Batch\n",
    "from copy import deepcopy\n",
    "from torch_geometric.nn.pool import knn_graph, radius_graph\n",
    "import importlib\n",
    "from importlib import reload\n",
    "import math\n",
    "from glob import glob\n",
    "import sys\n",
    "import time\n",
    "from torch_geometric.utils import to_networkx\n",
    "from torch_geometric.utils import to_dense_adj, dense_to_sparse\n",
    "import networkx as nx\n",
    "from torch_geometric.loader import DataLoader\n",
    "import torch.nn.functional as F\n",
    "%matplotlib notebook\n",
    "%matplotlib inline"
   ]
  },
  {
   "cell_type": "code",
   "execution_count": 4,
   "id": "04a3286b",
   "metadata": {},
   "outputs": [
    {
     "ename": "FileNotFoundError",
     "evalue": "[Errno 2] No such file or directory: '/xdisk/twheeler/jgaiser/ContrastVS/pdbbind_data/VALIDATION_PAIRS_4-2.pt'",
     "output_type": "error",
     "traceback": [
      "\u001b[0;31m---------------------------------------------------------------------------\u001b[0m",
      "\u001b[0;31mFileNotFoundError\u001b[0m                         Traceback (most recent call last)",
      "Cell \u001b[0;32mIn [4], line 6\u001b[0m\n\u001b[1;32m      4\u001b[0m active_embeds_dir \u001b[38;5;241m=\u001b[39m GCPR_dir \u001b[38;5;241m+\u001b[39m \u001b[38;5;124m'\u001b[39m\u001b[38;5;124mligand_embeds/\u001b[39m\u001b[38;5;124m'\u001b[39m\n\u001b[1;32m      5\u001b[0m decoy_embeds_dir \u001b[38;5;241m=\u001b[39m contrast_vs_dir \u001b[38;5;241m+\u001b[39m \u001b[38;5;124m'\u001b[39m\u001b[38;5;124mpdbbind_data/ligand_embeds/\u001b[39m\u001b[38;5;124m'\u001b[39m\n\u001b[0;32m----> 6\u001b[0m validation_pairs \u001b[38;5;241m=\u001b[39m \u001b[43mtorch\u001b[49m\u001b[38;5;241;43m.\u001b[39;49m\u001b[43mload\u001b[49m\u001b[43m(\u001b[49m\u001b[38;5;124;43m'\u001b[39;49m\u001b[38;5;124;43m/xdisk/twheeler/jgaiser/ContrastVS/pdbbind_data/VALIDATION_PAIRS_4-2.pt\u001b[39;49m\u001b[38;5;124;43m'\u001b[39;49m\u001b[43m)\u001b[49m\n\u001b[1;32m      7\u001b[0m TRAIN_PAIRS \u001b[38;5;241m=\u001b[39m torch\u001b[38;5;241m.\u001b[39mload(\u001b[38;5;124m'\u001b[39m\u001b[38;5;124m/xdisk/twheeler/jgaiser/ContrastVS/pdbbind_data/TRAIN_PAIRS_4-2.pt\u001b[39m\u001b[38;5;124m'\u001b[39m)\n\u001b[1;32m      9\u001b[0m validation_ids \u001b[38;5;241m=\u001b[39m []\n",
      "File \u001b[0;32m~/.conda/envs/vs-env/lib/python3.10/site-packages/torch/serialization.py:699\u001b[0m, in \u001b[0;36mload\u001b[0;34m(f, map_location, pickle_module, **pickle_load_args)\u001b[0m\n\u001b[1;32m    696\u001b[0m \u001b[38;5;28;01mif\u001b[39;00m \u001b[38;5;124m'\u001b[39m\u001b[38;5;124mencoding\u001b[39m\u001b[38;5;124m'\u001b[39m \u001b[38;5;129;01mnot\u001b[39;00m \u001b[38;5;129;01min\u001b[39;00m pickle_load_args\u001b[38;5;241m.\u001b[39mkeys():\n\u001b[1;32m    697\u001b[0m     pickle_load_args[\u001b[38;5;124m'\u001b[39m\u001b[38;5;124mencoding\u001b[39m\u001b[38;5;124m'\u001b[39m] \u001b[38;5;241m=\u001b[39m \u001b[38;5;124m'\u001b[39m\u001b[38;5;124mutf-8\u001b[39m\u001b[38;5;124m'\u001b[39m\n\u001b[0;32m--> 699\u001b[0m \u001b[38;5;28;01mwith\u001b[39;00m \u001b[43m_open_file_like\u001b[49m\u001b[43m(\u001b[49m\u001b[43mf\u001b[49m\u001b[43m,\u001b[49m\u001b[43m \u001b[49m\u001b[38;5;124;43m'\u001b[39;49m\u001b[38;5;124;43mrb\u001b[39;49m\u001b[38;5;124;43m'\u001b[39;49m\u001b[43m)\u001b[49m \u001b[38;5;28;01mas\u001b[39;00m opened_file:\n\u001b[1;32m    700\u001b[0m     \u001b[38;5;28;01mif\u001b[39;00m _is_zipfile(opened_file):\n\u001b[1;32m    701\u001b[0m         \u001b[38;5;66;03m# The zipfile reader is going to advance the current file position.\u001b[39;00m\n\u001b[1;32m    702\u001b[0m         \u001b[38;5;66;03m# If we want to actually tail call to torch.jit.load, we need to\u001b[39;00m\n\u001b[1;32m    703\u001b[0m         \u001b[38;5;66;03m# reset back to the original position.\u001b[39;00m\n\u001b[1;32m    704\u001b[0m         orig_position \u001b[38;5;241m=\u001b[39m opened_file\u001b[38;5;241m.\u001b[39mtell()\n",
      "File \u001b[0;32m~/.conda/envs/vs-env/lib/python3.10/site-packages/torch/serialization.py:230\u001b[0m, in \u001b[0;36m_open_file_like\u001b[0;34m(name_or_buffer, mode)\u001b[0m\n\u001b[1;32m    228\u001b[0m \u001b[38;5;28;01mdef\u001b[39;00m \u001b[38;5;21m_open_file_like\u001b[39m(name_or_buffer, mode):\n\u001b[1;32m    229\u001b[0m     \u001b[38;5;28;01mif\u001b[39;00m _is_path(name_or_buffer):\n\u001b[0;32m--> 230\u001b[0m         \u001b[38;5;28;01mreturn\u001b[39;00m \u001b[43m_open_file\u001b[49m\u001b[43m(\u001b[49m\u001b[43mname_or_buffer\u001b[49m\u001b[43m,\u001b[49m\u001b[43m \u001b[49m\u001b[43mmode\u001b[49m\u001b[43m)\u001b[49m\n\u001b[1;32m    231\u001b[0m     \u001b[38;5;28;01melse\u001b[39;00m:\n\u001b[1;32m    232\u001b[0m         \u001b[38;5;28;01mif\u001b[39;00m \u001b[38;5;124m'\u001b[39m\u001b[38;5;124mw\u001b[39m\u001b[38;5;124m'\u001b[39m \u001b[38;5;129;01min\u001b[39;00m mode:\n",
      "File \u001b[0;32m~/.conda/envs/vs-env/lib/python3.10/site-packages/torch/serialization.py:211\u001b[0m, in \u001b[0;36m_open_file.__init__\u001b[0;34m(self, name, mode)\u001b[0m\n\u001b[1;32m    210\u001b[0m \u001b[38;5;28;01mdef\u001b[39;00m \u001b[38;5;21m__init__\u001b[39m(\u001b[38;5;28mself\u001b[39m, name, mode):\n\u001b[0;32m--> 211\u001b[0m     \u001b[38;5;28msuper\u001b[39m(_open_file, \u001b[38;5;28mself\u001b[39m)\u001b[38;5;241m.\u001b[39m\u001b[38;5;21m__init__\u001b[39m(\u001b[38;5;28;43mopen\u001b[39;49m\u001b[43m(\u001b[49m\u001b[43mname\u001b[49m\u001b[43m,\u001b[49m\u001b[43m \u001b[49m\u001b[43mmode\u001b[49m\u001b[43m)\u001b[49m)\n",
      "\u001b[0;31mFileNotFoundError\u001b[0m: [Errno 2] No such file or directory: '/xdisk/twheeler/jgaiser/ContrastVS/pdbbind_data/VALIDATION_PAIRS_4-2.pt'"
     ]
    }
   ],
   "source": [
    "contrast_vs_dir = '/xdisk/twheeler/jgaiser/ContrastVS/'\n",
    "GCPR_dir = contrast_vs_dir + 'GCPR_data/'\n",
    "pocket_embeds_dir = GCPR_dir + 'protein_embeds/'\n",
    "active_embeds_dir = GCPR_dir + 'ligand_embeds/'\n",
    "decoy_embeds_dir = contrast_vs_dir + 'pdbbind_data/ligand_embeds/'\n",
    "validation_pairs = torch.load('/xdisk/twheeler/jgaiser/ContrastVS/pdbbind_data/VALIDATION_PAIRS_4-2.pt')\n",
    "TRAIN_PAIRS = torch.load('/xdisk/twheeler/jgaiser/ContrastVS/pdbbind_data/TRAIN_PAIRS_4-2.pt')\n",
    "\n",
    "validation_ids = []\n",
    "decoy_embeds = []\n",
    "pdbbind_ligands = []\n",
    "\n",
    "for p in validation_pairs:\n",
    "    validation_ids.append(p[1].name.split('_')[0])\n",
    "    \n",
    "for d in glob(decoy_embeds_dir + '/*.pyg'):\n",
    "    pdb_id = d.split('/')[-1].split('_')[0]\n",
    "    if pdb_id in validation_ids:\n",
    "        decoy_embeds.append(torch.load(d))\n",
    "    else:\n",
    "        pdbbind_ligands.append(torch.load(d))"
   ]
  },
  {
   "cell_type": "code",
   "execution_count": 94,
   "id": "7dd713c6",
   "metadata": {},
   "outputs": [],
   "source": [
    "protein_coords = {}\n",
    "\n",
    "for pdb_p, _ in TRAIN_PAIRS:\n",
    "    protein_coords[pdb_p.name.split('_')[0]] = pdb_p.pos\n",
    "    \n",
    "for l in pdbbind_ligands:\n",
    "    pdb_id = l.name.split('_')[0]\n",
    "    interaction_mask = torch.zeros(l.x.size(0))\n",
    "    interaction_mask[torch.unique(radius(protein_coords[pdb_id], l.pos, 4)[0])]=1\n",
    "    l.proximity_mask = interaction_mask.bool()"
   ]
  },
  {
   "cell_type": "code",
   "execution_count": 98,
   "id": "0af19f3c",
   "metadata": {},
   "outputs": [],
   "source": [
    "pdbbind_batch = DataLoader(pdbbind_ligands, batch_size=128, shuffle=False)"
   ]
  },
  {
   "cell_type": "code",
   "execution_count": 112,
   "id": "179545c0",
   "metadata": {},
   "outputs": [],
   "source": [
    "torch.save(pdbbind_batch, '/xdisk/twheeler/jgaiser/ContrastVS/pdbbind_data/training_ligand_embed_loader.pt')"
   ]
  },
  {
   "cell_type": "code",
   "execution_count": 10,
   "id": "5d753c00",
   "metadata": {},
   "outputs": [],
   "source": [
    "def plot_histogram_data(data, bins=20):\n",
    "    plt.clf()\n",
    "    r = [x.item() for x in [data.mean()-data.std()*3, data.mean()+data.std()*3]]\n",
    "    plt.hist(data, bins=bins, range=r, alpha=0.5)\n",
    "    plt.show()\n",
    "    \n",
    "def histogram_scoring_function(data, bins=25):\n",
    "    hist_vals, bin_edges = torch.histogram(data, bins)\n",
    "    hist_vals = hist_vals / max(hist_vals)\n",
    "    \n",
    "    def hist_score(values): \n",
    "        buckets = torch.bucketize(values, bin_edges)\n",
    "        buckets[buckets == 0] = 1\n",
    "        buckets[buckets > hist_vals.size(0)] = hist_vals.size(0)\n",
    "        buckets = buckets-1\n",
    "\n",
    "        return hist_vals[buckets]\n",
    "    \n",
    "    return hist_score\n",
    "\n",
    "def get_atom_d_score_function(spatial_distances, \n",
    "                              edge_distances, \n",
    "                              bins=25, \n",
    "                              max_ed=10):\n",
    "    \n",
    "    hist_score_functions = [histogram_scoring_function(spatial_distances[torch.where(edge_distances==i)[0]], bins) \n",
    "                           for i in range(1, max_ed)]\n",
    "\n",
    "    def df(spatial_dist, edge_dist):\n",
    "        return hist_score_functions[edge_dist-1](spatial_dist)\n",
    "    \n",
    "    return df\n"
   ]
  },
  {
   "cell_type": "code",
   "execution_count": 11,
   "id": "ade0471a",
   "metadata": {},
   "outputs": [],
   "source": [
    "pl_pairs = []\n",
    "\n",
    "for pi, pocket_embed_f in enumerate(glob(pocket_embeds_dir + '*.pyg')):\n",
    "    p_pdb_id = pocket_embed_f.split('/')[-1].split('_')[0]\n",
    "    \n",
    "    for ligand_embed_f in glob(active_embeds_dir + '*.pyg'):\n",
    "        if p_pdb_id in ligand_embed_f:\n",
    "            pl_pairs.append((torch.load(pocket_embed_f), \n",
    "                             torch.load(ligand_embed_f)))\n",
    "            "
   ]
  },
  {
   "cell_type": "code",
   "execution_count": 12,
   "id": "6b85a2df",
   "metadata": {},
   "outputs": [],
   "source": [
    "device = torch.device('cuda' if torch.cuda.is_available() else 'cpu')\n",
    "\n",
    "def all_pairs_cos(a,b):\n",
    "    with torch.no_grad():\n",
    "        cos = torch.nn.CosineSimilarity(dim=2)\n",
    "        a = a.unsqueeze(1).to(device)\n",
    "        b = b.unsqueeze(0).to(device)\n",
    "        return(cos(a,b).cpu())\n",
    "    \n",
    "def cos_dist(a,b):\n",
    "    return 1 - all_pairs_cos(a,b)\n",
    "\n",
    "def a_in_b_mask(a, b):\n",
    "    a_exp = a.unsqueeze(1)\n",
    "    b_exp = b.unsqueeze(0)\n",
    "    return torch.any(a_exp == b_exp, dim=1)\n",
    "\n",
    "def get_n_closest(a, b, n, dist_func=cos_dist):\n",
    "    d_vals, d_index = torch.sort(dist_func(a,b))\n",
    "    return d_vals[:,:n], d_index[:,:n]\n",
    "\n",
    "def get_k_hop_neighborhoods(mol, atom_idx, max_k):\n",
    "    k_hop_neighborhoods = []\n",
    "    observed_atoms = torch.tensor([atom_idx])\n",
    "    \n",
    "    for k in range(1, max_k+1):\n",
    "        within_k = k_hop_subgraph(atom_idx, k, mol.edge_index)[0]\n",
    "        k_hop_neighbors = torch.tensor(np.setdiff1d(within_k, observed_atoms))\n",
    "        \n",
    "        if k_hop_neighbors.size(0) == 0:\n",
    "            break\n",
    "            \n",
    "        observed_atoms = torch.hstack((observed_atoms, k_hop_neighbors))\n",
    "        k_hop_neighborhoods.append(k_hop_neighbors)\n",
    "        \n",
    "    return k_hop_neighborhoods\n"
   ]
  },
  {
   "cell_type": "code",
   "execution_count": 138,
   "id": "c1b735bf",
   "metadata": {},
   "outputs": [],
   "source": [
    "def id_interaction_points(pg, eval_data):\n",
    "    pocket_point_score = torch.zeros(pg.x.size(0))  \n",
    "    pocket_point_mean = torch.zeros_like(pg.x)\n",
    "    \n",
    "    for bi, b in enumerate(eval_data):\n",
    "        batch_x = b.x[b.proximity_mask]\n",
    "        p_neighbor_dist, p_neighbor_idx = get_n_closest(batch_x, pg.x, 10)\n",
    "        \n",
    "        for m_idx in torch.arange(batch_x.size(0)):\n",
    "            p_idx = p_neighbor_idx[m_idx]\n",
    "            \n",
    "            pocket_point_score[p_idx] += 1\n",
    "            pocket_point_mean[p_idx] += batch_x[m_idx]\n",
    "    \n",
    "    return pocket_point_score, pocket_point_mean\n",
    "\n",
    "def generate_interaction_profile(pocket_embed_graph, mol_embed_loader):\n",
    "    voxel_score = torch.zeros(pocket_embed_graph.x.size(0))\n",
    "    neighbor_atom_vals = torch.zeros_like(pocket_embed_graph.x)\n",
    "\n",
    "    for batch_i, batch in enumerate(mol_embed_loader):\n",
    "        batch_x = batch.x[batch.proximity_mask]\n",
    "        voxel_neigbor_dist, voxel_neighbor_idx = get_n_closest(\n",
    "            batch_x, pocket_embed_graph.x, 20, cos_dist\n",
    "        )\n",
    "\n",
    "        for atom_idx in torch.arange(batch_x.size(0)):\n",
    "            voxel_idx = voxel_neighbor_idx[atom_idx]\n",
    "            voxel_score[voxel_idx] += 1\n",
    "            neighbor_atom_vals[voxel_idx] += batch_x[atom_idx]\n",
    "\n",
    "    return voxel_score, neighbor_atom_vals\n",
    "    \n",
    "with torch.no_grad():\n",
    "    ps, pm = generate_interaction_profile(pl_pairs[109][0], pdbbind_batch)"
   ]
  },
  {
   "cell_type": "code",
   "execution_count": 2,
   "id": "b3bd3b6a",
   "metadata": {},
   "outputs": [
    {
     "ename": "NameError",
     "evalue": "name 'deepcopy' is not defined",
     "output_type": "error",
     "traceback": [
      "\u001b[0;31m---------------------------------------------------------------------------\u001b[0m",
      "\u001b[0;31mNameError\u001b[0m                                 Traceback (most recent call last)",
      "Cell \u001b[0;32mIn [2], line 1\u001b[0m\n\u001b[0;32m----> 1\u001b[0m ps2 \u001b[38;5;241m=\u001b[39m \u001b[43mdeepcopy\u001b[49m(ps)\n\u001b[1;32m      2\u001b[0m ps2[ps \u001b[38;5;241m<\u001b[39m \u001b[38;5;241m18000\u001b[39m] \u001b[38;5;241m=\u001b[39m \u001b[38;5;241m0\u001b[39m\n\u001b[1;32m      3\u001b[0m plt\u001b[38;5;241m.\u001b[39mbar(\u001b[38;5;28mrange\u001b[39m(\u001b[38;5;28mlen\u001b[39m(ps2)), ps2, color\u001b[38;5;241m=\u001b[39m\u001b[38;5;124m'\u001b[39m\u001b[38;5;124mblue\u001b[39m\u001b[38;5;124m'\u001b[39m, alpha\u001b[38;5;241m=\u001b[39m\u001b[38;5;241m0.7\u001b[39m)\n",
      "\u001b[0;31mNameError\u001b[0m: name 'deepcopy' is not defined"
     ]
    }
   ],
   "source": [
    "ps2 = deepcopy(ps)\n",
    "ps2[ps < 18000] = 0\n",
    "plt.bar(range(len(ps2)), ps2, color='blue', alpha=0.7)"
   ]
  },
  {
   "cell_type": "code",
   "execution_count": 21,
   "id": "81a21b0a",
   "metadata": {},
   "outputs": [
    {
     "name": "stdout",
     "output_type": "stream",
     "text": [
      "tensor([[ 0.5472, -0.1626,  0.2726,  0.6642],\n",
      "        [-0.2989,  0.7226,  0.4739,  0.5437],\n",
      "        [-0.9281,  1.4177,  0.6663, -1.7698],\n",
      "        [-0.5743, -0.2430,  0.3651,  1.8932],\n",
      "        [-0.2540,  1.5509,  0.0572,  0.7926]])\n",
      "tensor([[-0.4644,  1.4121, -0.0311,  1.0681],\n",
      "        [-0.5794, -0.4268, -1.4693, -0.7247],\n",
      "        [-0.5592,  0.6571,  1.1485, -0.0785],\n",
      "        [-0.0562,  0.2398, -0.3504,  0.0831],\n",
      "        [-1.8186,  0.0641,  0.1473, -0.3046],\n",
      "        [ 0.1988,  0.5820, -0.3662, -0.0946],\n",
      "        [-1.0143, -0.1815,  0.4779, -0.9624]])\n"
     ]
    },
    {
     "data": {
      "text/plain": [
       "tensor([[-0.4644,  0.7226, -0.0311,  0.5437],\n",
       "        [-0.5743, -0.2430, -0.3504,  0.0831],\n",
       "        [-1.0143, -0.1815,  0.0572, -0.9624]])"
      ]
     },
     "execution_count": 21,
     "metadata": {},
     "output_type": "execute_result"
    }
   ],
   "source": [
    "a = torch.randn(5*4).reshape(5,4)\n",
    "b = torch.randn(4*7).reshape(7,4)\n",
    "print(a)\n",
    "print(b)\n",
    "\n",
    "torch.minimum(a[torch.tensor([1,3,4])],b[torch.tensor([0,3,6])])\n"
   ]
  },
  {
   "cell_type": "code",
   "execution_count": 144,
   "id": "1c8d2010",
   "metadata": {},
   "outputs": [
    {
     "data": {
      "text/plain": [
       "108"
      ]
     },
     "execution_count": 144,
     "metadata": {},
     "output_type": "execute_result"
    }
   ],
   "source": [
    "torch.where(ps > 20000)[0].size(0)"
   ]
  },
  {
   "cell_type": "code",
   "execution_count": null,
   "id": "ab913b4c",
   "metadata": {},
   "outputs": [],
   "source": [
    "ps"
   ]
  },
  {
   "cell_type": "code",
   "execution_count": 66,
   "id": "705361d5",
   "metadata": {},
   "outputs": [
    {
     "data": {
      "text/plain": [
       "497"
      ]
     },
     "execution_count": 66,
     "metadata": {},
     "output_type": "execute_result"
    }
   ],
   "source": [
    "torch.where(ps > 5000)[0].size(0)"
   ]
  },
  {
   "cell_type": "code",
   "execution_count": 211,
   "id": "5d4e3d37",
   "metadata": {},
   "outputs": [
    {
     "data": {
      "image/png": "[encoded data removed]",
      "text/plain": [
       "<Figure size 640x480 with 1 Axes>"
      ]
     },
     "metadata": {},
     "output_type": "display_data"
    }
   ],
   "source": [
    "best_indices = torch.sort(ps, descending=True).indices[:500]\n",
    "mean_embeds = pm[best_indices] / ps[best_indices].unsqueeze(1)\n",
    "\n",
    "bins = plt.hist2d(dim1.numpy(), dim2.numpy(), bins=100)"
   ]
  },
  {
   "cell_type": "code",
   "execution_count": 62,
   "id": "6ba3785a",
   "metadata": {},
   "outputs": [
    {
     "data": {
      "text/plain": [
       "464"
      ]
     },
     "execution_count": 62,
     "metadata": {},
     "output_type": "execute_result"
    }
   ],
   "source": [
    "torch.where(ps > 0)[0].size(0)"
   ]
  },
  {
   "cell_type": "code",
   "execution_count": 52,
   "id": "778cf5df",
   "metadata": {},
   "outputs": [
    {
     "name": "stdout",
     "output_type": "stream",
     "text": [
      "tensor([[ 0,  0,  0,  0,  1,  1,  2,  2,  3,  3,  4,  4,  4,  5,  5,  5,  6,  6,\n",
      "          7,  7,  8,  8,  8,  9,  9, 10, 10, 11, 11, 12, 12, 12, 13, 13, 14, 15,\n",
      "         16, 17, 18, 19],\n",
      "        [ 1,  5, 15, 16,  0,  2,  1,  3,  2,  4,  3,  5, 17,  0,  4,  6,  5,  7,\n",
      "          6,  8,  7,  9, 18,  8, 10,  9, 11, 10, 12, 11, 13, 19, 12, 14, 13,  0,\n",
      "          0,  4,  8, 12]])\n",
      "tensor([[ 0,  0,  0,  1,  1,  1,  1,  2,  2,  3,  3,  3,  4,  4,  4,  5,  5,  5,\n",
      "          5,  5,  5,  6,  6,  6,  7,  7,  7,  8,  8,  9,  9,  9, 10, 10, 11, 11,\n",
      "         11, 12, 12, 13, 13, 14, 15, 15, 15, 16, 16, 16, 17, 17, 18, 18, 19, 19],\n",
      "        [ 2,  4,  6,  3,  5, 15, 16,  0,  4,  1,  5, 17,  0,  2,  6,  1,  3,  7,\n",
      "         15, 16, 17,  0,  4,  8,  5,  9, 18,  6, 10,  7, 11, 18,  8, 12,  9, 13,\n",
      "         19, 10, 14, 11, 19, 12,  1,  5, 16,  1,  5, 15,  3,  5,  7,  9, 11, 13]])\n",
      "tensor([[ 0,  0,  0,  1,  1,  2,  2,  2,  2,  3,  3,  4,  4,  4,  4,  5,  5,  6,\n",
      "          6,  6,  6,  6,  6,  6,  7,  7,  7,  8,  8,  9,  9, 10, 10, 10, 10, 11,\n",
      "         11, 12, 13, 14, 14, 15, 15, 15, 16, 16, 16, 17, 17, 17, 18, 18, 19, 19],\n",
      "        [ 3,  7, 17,  4,  6,  5, 15, 16, 17,  0,  6,  1,  7, 15, 16,  2,  8,  1,\n",
      "          3,  9, 15, 16, 17, 18,  0,  4, 10,  5, 11,  6, 12,  7, 13, 18, 19,  8,\n",
      "         14,  9, 10, 11, 19,  2,  4,  6,  2,  4,  6,  0,  2,  6,  6, 10, 10, 14]])\n"
     ]
    }
   ],
   "source": [
    "def find_k_hop_neighbors(g, k):\n",
    "    edge_index = g.edge_index\n",
    "    num_nodes = g.x.size(0)\n",
    "    # Convert edge_index to dense adjacency matrix\n",
    "    adj = to_dense_adj(edge_index, max_num_nodes=num_nodes)[0]\n",
    "    # Identity matrix to start the multiplication (A^0)\n",
    "    prev = torch.eye(num_nodes, dtype=torch.bool, device=edge_index.device)\n",
    "\n",
    "    # List to hold edge indices for k hops\n",
    "    hop_pairs = []\n",
    "\n",
    "    for _ in range(k):\n",
    "        # Multiply previous power with adjacency matrix (A^k)\n",
    "        next_adj = torch.matmul(adj.float(), prev.float())\n",
    "        # Get pairs that are exactly k-hops away (nonzero entries in next_adj that were zero in prev)\n",
    "        next_adj = (next_adj > 0) & ~prev\n",
    "        # Update previous adjacency to include paths of length <= k\n",
    "        prev = prev | next_adj.bool()\n",
    "        # Convert to edge_index format\n",
    "        hop_pairs.append(dense_to_sparse(next_adj)[0])\n",
    "\n",
    "    return hop_pairs\n",
    "\n",
    "def get_hop_pairs(data, max_hops=4):\n",
    "    num_nodes = data.num_nodes\n",
    "    hop_data = []\n",
    "\n",
    "    # Calculate pairs for each hop from 1 to max_hops\n",
    "    hop_pairs = find_k_hop_neighbors(data.edge_index, num_nodes, max_hops)\n",
    "    \n",
    "    # Process pairs into the required format\n",
    "    for hop in range(max_hops):\n",
    "        if len(hop_pairs[hop][0]) == 0:\n",
    "            # Handle graphs with isolated components or small number of nodes\n",
    "            hop_data.append(torch.empty((0, 2), dtype=torch.long))\n",
    "        else:\n",
    "            pairs = torch.stack(hop_pairs[hop], dim=1)\n",
    "            hop_data.append(pairs)\n",
    "\n",
    "    # Stack along new dimension to get a tensor of shape [max_hops, N_k, 2]\n",
    "    return torch.stack(hop_data)\n",
    "\n",
    "def print_matrix(m):\n",
    "    for r in m:\n",
    "        print(' '.join(['%s' % x for x in r.int().tolist()]))\n",
    "\n",
    "\n",
    "mg = pl_pairs[8][1]\n",
    "\n",
    "for r in find_k_hop_neighbors(mg, 3):\n",
    "    print(r)\n"
   ]
  },
  {
   "cell_type": "code",
   "execution_count": 237,
   "id": "c24dc490",
   "metadata": {},
   "outputs": [],
   "source": [
    "def construct_directed_graph(pg, mg, n=15, edge_k=3, min_d_score=0.7):\n",
    "    x, p_indices = get_n_closest(mg.x, pg.x, n) \n",
    "    x = x.flatten()\n",
    "    \n",
    "    structured_index = torch.arange(x.size(0)).reshape(mg.x.size(0),-1)\n",
    "    \n",
    "    pos = pg.pos[p_indices].reshape(-1, 3)\n",
    "    \n",
    "    ei_segments = []\n",
    "    ea = []\n",
    "    \n",
    "    k_i = 0\n",
    "    \n",
    "    for k_hop_pairs in find_k_hop_neighbors(mg, edge_k):\n",
    "        k_i += 1\n",
    "        \n",
    "        mask = k_hop_pairs[1] - k_hop_pairs[0]\n",
    "        mask[mask < 0] = 0\n",
    "        mask = mask.bool()\n",
    "        \n",
    "        k_hop_pairs = k_hop_pairs[:, mask]\n",
    "        \n",
    "        k_source_pos = pos[structured_index[k_hop_pairs[0]]]\n",
    "        k_sink_pos = pos[structured_index[k_hop_pairs[1]]]\n",
    "        \n",
    "        spatial_dist = torch.norm(k_source_pos.unsqueeze(2) - k_sink_pos.unsqueeze(1), dim=3)\n",
    "        distance_scores = atom_d_score(spatial_dist, k_i) \n",
    "        \n",
    "        i,j,l = torch.where(distance_scores > min_d_score)\n",
    "        \n",
    "        ei_segments.append(torch.vstack((k_hop_pairs[0,i]*n + j, \n",
    "                                         k_hop_pairs[1,i]*n + l)))\n",
    "        \n",
    "        ea.append(1-x[k_hop_pairs[1,i]*n + l])\n",
    "            \n",
    "    x = torch.hstack((torch.tensor(0), x, torch.tensor(0)))\n",
    "    pos = torch.vstack((torch.tensor([[0,0,0]]), pos, torch.tensor([[0,0,0]])))\n",
    "    ei = torch.hstack(ei_segments)+1\n",
    "    ea = torch.hstack(ea)\n",
    "#     ea[ea == 0] = -1\n",
    "    \n",
    "    start_sinks = structured_index[0]+1\n",
    "    start_edges = torch.vstack((torch.zeros(start_sinks.size(0)), start_sinks))\n",
    "    start_ea = 1-x[start_sinks]\n",
    "    \n",
    "#     stop_sources = torch.where(batch==batch.max())[0]+1\n",
    "    stop_sources = torch.arange(1, x.size(0)-1)\n",
    "    stop_edges = torch.vstack((stop_sources, \n",
    "                               torch.zeros(stop_sources.size(0)).fill_(x.size(0)-1)))\n",
    "    \n",
    "    stop_ea = torch.zeros(stop_sources.size(0))\n",
    "    \n",
    "    ei = torch.hstack((ei, start_edges, stop_edges))\n",
    "    ea = torch.hstack((ea, start_ea, stop_ea))\n",
    "    \n",
    "    return Data(x=x, edge_index=ei, weight=-1*ea, pos=pos)\n",
    "\n",
    "p_i = 0    \n",
    "\n",
    "def get_edge(source, sink, ei):\n",
    "    source_idx = torch.where(ei[0]==source)[0]\n",
    "    sink_idx = torch.where(ei[1]==sink)[0]\n",
    "    return torch.tensor(np.intersect1d(source_idx,sink_idx))\n",
    "\n",
    "def get_pm_score(p, m):\n",
    "    x, ei, ea = construct_directed_graph(p,m)\n",
    "    \n",
    "    data = Data(edge_index=ei, weight=ea, num_nodes=x.size(0))\n",
    "    g = torch_geometric.utils.to_networkx(data, edge_attrs=['weight'])\n",
    "    bf_out = nx.bellman_ford_path(g, 0, ei[1].max().item())\n",
    "    \n",
    "    scores = []\n",
    "    \n",
    "    for i in range(len(bf_out)-1):\n",
    "        scores.append(ea[get_edge(bf_out[i], bf_out[i+1], ei)].min().item())\n",
    "        \n",
    "    \n",
    "#     print(scores)\n",
    "    return -1*(sum(scores) / len(scores))\n",
    "    \n",
    "scoores = []\n",
    "pgraphs = []\n",
    "ngraphs = []\n",
    "\n",
    "# for p,m in pl_pairs:\n",
    "#     p_i += 1\n",
    "#     p_score = get_pm_score(p,m)\n",
    "#     n_scores = []\n",
    "    \n",
    "#     rs = random.sample(decoy_embeds, 250)\n",
    "#     for d in rs:\n",
    "#         nsc = get_pm_score(p, d)\n",
    "#         n_scores.append(nsc)\n",
    "        \n",
    "#     n_scores = torch.tensor(n_scores)\n",
    "    \n",
    "#     final_score = 1-(n_scores[n_scores > p_score].size(0) / n_scores.size(0))\n",
    "#     print(final_score)\n",
    "#     scoores.append(final_score)\n",
    "#     print('--', sum(scoores) / len(scoores))\n",
    "#     print('---')\n"
   ]
  },
  {
   "cell_type": "code",
   "execution_count": 253,
   "id": "5d100bb3",
   "metadata": {},
   "outputs": [],
   "source": [
    "pdists = []\n",
    "ndists = []\n",
    "\n",
    "def get_bf_path_data(dag, m_count):\n",
    "    structured_ppos = dag.pos[1:-1].reshape(m_count, -1, 3)\n",
    "    \n",
    "    avg_dist = torch.norm(structured_ppos.unsqueeze(2) -\n",
    "                          structured_ppos.unsqueeze(1), dim=3).mean(dim=2).flatten()\n",
    "    \n",
    "    dag_nx = torch_geometric.utils.to_networkx(dag, edge_attrs=['weight'])\n",
    "    bf_out = torch.tensor(nx.bellman_ford_path(dag_nx, 0, dag.edge_index[1].max().item())).long()[1:-1]\n",
    "    \n",
    "    if bf_out[-1] < avg_dist.size(0):\n",
    "        return avg_dist[bf_out[1:-1]]\n",
    "    \n",
    "    return None\n",
    "    \n",
    "for p,m in pl_pairs:\n",
    "    dag = construct_directed_graph(p, m, n=15, edge_k=3, min_d_score=0.7)\n",
    "    dist_data = get_bf_path_data(dag, m.x.size(0))\n",
    "    if dist_data is not None:\n",
    "        pdists.append(dist_data)\n",
    "    \n",
    "    rs = random.sample(decoy_embeds, 250)\n",
    "    for d in rs:\n",
    "        ndag = construct_directed_graph(p, d, n=15, edge_k=3, min_d_score=0.7)\n",
    "        ndist_data = get_bf_path_data(ndag, d.x.size(0))\n",
    "        \n",
    "        if ndist_data is not None:\n",
    "            ndists.append(ndist_data)\n",
    "        break\n",
    "        \n",
    "pdists = torch.hstack(pdists)\n",
    "ndists = torch.hstack(ndists)"
   ]
  },
  {
   "cell_type": "code",
   "execution_count": 248,
   "id": "89f958e5",
   "metadata": {},
   "outputs": [],
   "source": [
    "pdists = torch.hstack(pdists)\n",
    "ndists = torch.hstack(ndists)"
   ]
  },
  {
   "cell_type": "code",
   "execution_count": 257,
   "id": "9a6a399e",
   "metadata": {},
   "outputs": [
    {
     "data": {
      "image/png": "[encoded data removed]",
      "text/plain": [
       "<Figure size 640x480 with 1 Axes>"
      ]
     },
     "metadata": {},
     "output_type": "display_data"
    }
   ],
   "source": [
    "plot_histogram_data(pdists, bins=100)"
   ]
  },
  {
   "cell_type": "code",
   "execution_count": 256,
   "id": "699a1236",
   "metadata": {},
   "outputs": [
    {
     "data": {
      "image/png": "[encoded data removed]",
      "text/plain": [
       "<Figure size 640x480 with 1 Axes>"
      ]
     },
     "metadata": {},
     "output_type": "display_data"
    }
   ],
   "source": [
    "plot_histogram_data(ndists, bins=100)"
   ]
  },
  {
   "cell_type": "code",
   "execution_count": 182,
   "id": "33515f3c",
   "metadata": {},
   "outputs": [
    {
     "data": {
      "image/png": "[encoded data removed]",
      "text/plain": [
       "<Figure size 640x480 with 1 Axes>"
      ]
     },
     "metadata": {},
     "output_type": "display_data"
    }
   ],
   "source": [
    "plot_histogram_data(p_NE_distances[:100000], bins=100)"
   ]
  },
  {
   "cell_type": "code",
   "execution_count": 183,
   "id": "1385d3a2",
   "metadata": {},
   "outputs": [
    {
     "data": {
      "image/png": "[encoded data removed]",
      "text/plain": [
       "<Figure size 640x480 with 1 Axes>"
      ]
     },
     "metadata": {},
     "output_type": "display_data"
    }
   ],
   "source": [
    "plot_histogram_data(n_NE_distances[:100000], bins=100)"
   ]
  },
  {
   "cell_type": "code",
   "execution_count": 179,
   "id": "875a0ee9",
   "metadata": {},
   "outputs": [
    {
     "name": "stdout",
     "output_type": "stream",
     "text": [
      "tensor([ 1.4142,  4.0000,  1.0000,  1.0000, 12.9615, 12.7279,  1.7321,  3.0000,\n",
      "         1.0000,  2.0000,  1.4142, 12.4499, 12.3693,  2.2361,  1.4142,  4.2426,\n",
      "         1.7321,  1.0000, 13.1909, 12.2474,  1.0000,  3.3166,  2.2361,  1.4142,\n",
      "         1.4142, 11.8743, 11.8743,  1.0000,  4.0000,  4.2426,  3.0000,  4.1231,\n",
      "        12.9615, 11.7473,  3.3166,  1.0000,  4.1231,  4.4721,  5.0990, 11.4455,\n",
      "        11.7047,  4.5826,  1.0000,  1.7321,  3.0000,  1.4142, 12.8452, 12.3693,\n",
      "         1.4142,  2.0000,  1.4142,  2.2361,  2.2361, 12.0830, 12.0830,  2.4495,\n",
      "         1.0000,  1.0000,  4.1231,  1.4142, 12.3693, 11.8743,  1.4142,  3.1623,\n",
      "         1.4142,  1.0000,  1.0000, 11.5758, 11.4891,  1.4142, 12.9615, 13.1909,\n",
      "        12.9615, 12.8452, 12.3693,  7.3485, 13.0767, 12.8452, 12.2066, 11.8322,\n",
      "        12.5698,  8.1854,  7.0000, 12.6886, 12.7279, 12.2474, 11.7473, 12.3693,\n",
      "        11.8743,  7.3485, 11.8743, 11.8743, 12.4499, 11.0454, 12.3288,  1.0000,\n",
      "         1.0000, 11.4455,  1.7321,  1.0000]) tensor([ 1.4142,  4.0000,  1.0000,  1.0000, 12.9615, 12.7279,  1.7321,  3.0000,\n",
      "         1.0000,  2.0000,  1.4142, 12.4499, 12.3693,  2.2361,  1.4142,  4.2426,\n",
      "         1.7321,  1.0000, 13.1909, 12.2474,  1.0000,  3.3166,  2.2361,  1.4142,\n",
      "         1.4142, 11.8743, 11.8743,  1.0000,  4.0000,  4.2426,  3.0000,  4.1231,\n",
      "        12.9615, 11.7473,  3.3166,  1.0000,  4.1231,  4.4721,  5.0990, 11.4455,\n",
      "        11.7047,  4.5826,  1.0000,  1.7321,  3.0000,  1.4142, 12.8452, 12.3693,\n",
      "         1.4142,  2.0000,  1.4142,  2.2361,  2.2361, 12.0830, 12.0830,  2.4495,\n",
      "         1.0000,  1.0000,  4.1231,  1.4142, 12.3693, 11.8743,  1.4142,  3.1623,\n",
      "         1.4142,  1.0000,  1.0000, 11.5758, 11.4891,  1.4142, 12.9615, 13.1909,\n",
      "        12.9615, 12.8452, 12.3693,  7.3485, 13.0767, 12.8452, 12.2066, 11.8322,\n",
      "        12.5698,  8.1854,  7.0000, 12.6886, 12.7279, 12.2474, 11.7473, 12.3693,\n",
      "        11.8743,  7.3485, 11.8743, 11.8743, 12.4499, 11.0454, 12.3288,  1.0000,\n",
      "         1.0000, 11.4455,  1.7321,  1.0000])\n"
     ]
    }
   ],
   "source": [
    "print(n_NE_distances[:100], p_NE_distances[:100])"
   ]
  },
  {
   "cell_type": "code",
   "execution_count": 104,
   "id": "2e017a04",
   "metadata": {},
   "outputs": [
    {
     "name": "stdout",
     "output_type": "stream",
     "text": [
      "tensor([[ 0,  1,  2],\n",
      "        [ 3,  4,  5],\n",
      "        [ 6,  7,  8],\n",
      "        [ 9, 10, 11],\n",
      "        [12, 13, 14]]) tensor([[0.0000, 0.5000, 1.0000],\n",
      "        [1.5000, 2.0000, 2.5000],\n",
      "        [3.0000, 3.5000, 4.0000],\n",
      "        [4.5000, 5.0000, 5.5000],\n",
      "        [6.0000, 6.5000, 7.0000]])\n"
     ]
    },
    {
     "data": {
      "text/plain": [
       "torch.Size([14, 5, 5])"
      ]
     },
     "execution_count": 104,
     "metadata": {},
     "output_type": "execute_result"
    }
   ],
   "source": [
    "a = torch.arange(14*5*3).reshape(14,5,3)\n",
    "b = torch.arange(14*5*3).reshape(14,5,3) / 2\n",
    "\n",
    "print(a[0],b[0])\n",
    "\n",
    "torch.norm(a.unsqueeze(2) - b.unsqueeze(1), dim=3).shape"
   ]
  },
  {
   "cell_type": "code",
   "execution_count": 10,
   "id": "e19c0fb0",
   "metadata": {},
   "outputs": [
    {
     "name": "stdout",
     "output_type": "stream",
     "text": [
      "tensor([[  0.,   1.,   2.,   3.,   4.,   5.,   6.,   7.,   8.,   9.,  10.,  11.,\n",
      "          12.,  13.,  14.,  15.,  16.,  17.,  18.,  19.,  20.,  21.,  22.,  23.,\n",
      "          24.,  25.,  26.,  27.,  28.,  29.,  30.,  31.,  32.,  33.,  34.,  35.,\n",
      "          36.,  37.,  38.,  39.,  40.,  41.,  42.,  43.,  44.,  45.,  46.,  47.,\n",
      "          48.,  49.,  50.,  51.,  52.,  53.,  54.,  55.,  56.,  57.,  58.,  59.,\n",
      "          60.,  61.,  62.,  63.,  64.,  65.,  66.,  67.,  68.,  69.,  70.,  71.,\n",
      "          72.,  73.,  74.,  75.,  76.,  77.,  78.,  79.,  80.,  81.,  82.,  83.,\n",
      "          84.,  85.,  86.,  87.,  88.,  89.,  90.,  91.,  92.,  93.,  94.,  95.,\n",
      "          96.,  97.,  98.,  99., 100., 101., 102., 103., 104., 105., 106., 107.,\n",
      "         108., 109., 110., 111., 112., 113., 114., 115., 116., 117., 118., 119.,\n",
      "         120., 121., 122., 123., 124., 125., 126., 127., 128., 129., 130., 131.,\n",
      "         132., 133., 134., 135., 136., 137., 138., 139., 140., 141., 142., 143.,\n",
      "         144., 145., 146., 147., 148., 149., 150., 151., 152., 153., 154., 155.,\n",
      "         156., 157., 158., 159., 160., 161., 162., 163., 164., 165., 166., 167.,\n",
      "         168., 169., 170., 171., 172., 173., 174., 175., 176., 177., 178., 179.,\n",
      "         180., 181., 182., 183., 184., 185., 186., 187., 188., 189., 190., 191.,\n",
      "         192., 193., 194., 195.],\n",
      "        [196., 196., 196., 196., 196., 196., 196., 196., 196., 196., 196., 196.,\n",
      "         196., 196., 196., 196., 196., 196., 196., 196., 196., 196., 196., 196.,\n",
      "         196., 196., 196., 196., 196., 196., 196., 196., 196., 196., 196., 196.,\n",
      "         196., 196., 196., 196., 196., 196., 196., 196., 196., 196., 196., 196.,\n",
      "         196., 196., 196., 196., 196., 196., 196., 196., 196., 196., 196., 196.,\n",
      "         196., 196., 196., 196., 196., 196., 196., 196., 196., 196., 196., 196.,\n",
      "         196., 196., 196., 196., 196., 196., 196., 196., 196., 196., 196., 196.,\n",
      "         196., 196., 196., 196., 196., 196., 196., 196., 196., 196., 196., 196.,\n",
      "         196., 196., 196., 196., 196., 196., 196., 196., 196., 196., 196., 196.,\n",
      "         196., 196., 196., 196., 196., 196., 196., 196., 196., 196., 196., 196.,\n",
      "         196., 196., 196., 196., 196., 196., 196., 196., 196., 196., 196., 196.,\n",
      "         196., 196., 196., 196., 196., 196., 196., 196., 196., 196., 196., 196.,\n",
      "         196., 196., 196., 196., 196., 196., 196., 196., 196., 196., 196., 196.,\n",
      "         196., 196., 196., 196., 196., 196., 196., 196., 196., 196., 196., 196.,\n",
      "         196., 196., 196., 196., 196., 196., 196., 196., 196., 196., 196., 196.,\n",
      "         196., 196., 196., 196., 196., 196., 196., 196., 196., 196., 196., 196.,\n",
      "         196., 196., 196., 196.]])\n"
     ]
    },
    {
     "ename": "SystemExit",
     "evalue": "",
     "output_type": "error",
     "traceback": [
      "An exception has occurred, use %tb to see the full traceback.\n",
      "\u001b[0;31mSystemExit\u001b[0m\n"
     ]
    },
    {
     "name": "stderr",
     "output_type": "stream",
     "text": [
      "/home/u1/jgaiser/.conda/envs/vs-env/lib/python3.10/site-packages/IPython/core/interactiveshell.py:3441: UserWarning: To exit: use 'exit', 'quit', or Ctrl-D.\n",
      "  warn(\"To exit: use 'exit', 'quit', or Ctrl-D.\", stacklevel=1)\n"
     ]
    }
   ],
   "source": [
    "def construct_directed_graph(pg, mg, n=15, edge_k=2, min_d_score=0.25):\n",
    "    x, p_indices = get_n_closest(mg.x, pg.x, n) \n",
    "    x = x.flatten()\n",
    "    \n",
    "    pos = pg.pos[p_indices].reshape(-1, 3)\n",
    "    batch = torch.repeat_interleave(torch.arange(mg.x.size(0)), n, 0)\n",
    "    \n",
    "    ei_segments = []\n",
    "    ea = []\n",
    "    \n",
    "    \n",
    "    for ai in torch.unique(batch):\n",
    "        i_node_indices = torch.where(batch == ai)[0]\n",
    "        \n",
    "        for k, k_neighborhood in enumerate(get_k_hop_neighborhoods(mg, ai.item(), edge_k)):\n",
    "            j_node_indices = torch.where(a_in_b_mask(batch, k_neighborhood))[0]\n",
    "            \n",
    "            ij_distances = torch.cdist(pos[i_node_indices].to(device), \n",
    "                                       pos[j_node_indices].to(device)).cpu()\n",
    "            \n",
    "            # true k is NOT zero indexed\n",
    "            ij_scores = atom_d_score(ij_distances, k+1)\n",
    "            src, sink = torch.where(ij_scores > min_d_score)\n",
    "            \n",
    "            if src.size(0) == 0:\n",
    "                continue\n",
    "            \n",
    "            source_idx = i_node_indices[src]\n",
    "            sink_idx = j_node_indices[sink]\n",
    "            \n",
    "            directed_indices = torch.where(sink_idx > source_idx.max())[0]\n",
    "            ei_segments.append(torch.vstack((source_idx, sink_idx))[:, directed_indices])\n",
    "            \n",
    "#             # MODIFY BY ij_score??\n",
    "#             ea.append(1-x[sink_idx][directed_indices]*ij_scores[src[directed_indices], \n",
    "#                                                            sink[directed_indices]])\n",
    "            ea.append(1-x[sink_idx][directed_indices])\n",
    "            \n",
    "    x = torch.hstack((torch.tensor(0), x, torch.tensor(0)))\n",
    "    \n",
    "    ei = torch.hstack(ei_segments)+1\n",
    "    \n",
    "    ea = torch.hstack(ea)\n",
    "#     ea[ea == 0] = -1\n",
    "    \n",
    "    start_sinks = torch.where(batch==batch.min())[0]+1\n",
    "    start_edges = torch.vstack((torch.zeros(start_sinks.size(0)), start_sinks))\n",
    "    start_ea = 1-x[start_sinks]\n",
    "    \n",
    "#     stop_sources = torch.where(batch==batch.max())[0]+1\n",
    "    stop_sources = torch.arange(x.size(0)-1)\n",
    "    stop_edges = torch.vstack((stop_sources, \n",
    "                               torch.zeros(stop_sources.size(0)).fill_(x.size(0)-1)))\n",
    "    \n",
    "    stop_ea = torch.zeros(stop_sources.size(0))\n",
    "    \n",
    "    ei = torch.hstack((ei, start_edges, stop_edges))\n",
    "    ea = torch.hstack((ea, start_ea, stop_ea))\n",
    "    \n",
    "    return x, ei, -1*ea\n",
    "\n",
    "p_i = 0    \n",
    "\n",
    "def get_edge(source, sink, ei):\n",
    "    source_idx = torch.where(ei[0]==source)[0]\n",
    "    sink_idx = torch.where(ei[1]==sink)[0]\n",
    "    return torch.tensor(np.intersect1d(source_idx,sink_idx))\n",
    "\n",
    "def get_pm_score(p, m):\n",
    "    x, ei, ea = construct_directed_graph(p,m)\n",
    "    \n",
    "    data = Data(edge_index=ei, weight=ea, num_nodes=x.size(0))\n",
    "    g = torch_geometric.utils.to_networkx(data, edge_attrs=['weight'])\n",
    "    bf_out = nx.bellman_ford_path(g, 0, ei[1].max().item())\n",
    "    \n",
    "    scores = []\n",
    "    \n",
    "    for i in range(len(bf_out)-1):\n",
    "        scores.append(ea[get_edge(bf_out[i], bf_out[i+1], ei)].min().item())\n",
    "        \n",
    "    \n",
    "#     print(scores)\n",
    "    return -1*(sum(scores) / len(scores))\n",
    "    \n",
    "scoores = []\n",
    "\n",
    "for p,m in pl_pairs:\n",
    "    p_i += 1\n",
    "    p_score = get_pm_score(p,m)\n",
    "    n_scores = []\n",
    "    \n",
    "    rs = random.sample(decoy_embeds, 50)\n",
    "    \n",
    "    for d in rs:\n",
    "        nsc = get_pm_score(p, d)\n",
    "        graph_construction_time += ctime\n",
    "        total_time += ttime\n",
    "        n_scores.append(nsc)\n",
    "        \n",
    "    n_scores = torch.tensor(n_scores)\n",
    "    \n",
    "    final_score = 1-(n_scores[n_scores > p_score].size(0) / n_scores.size(0))\n",
    "    print(final_score)\n",
    "    scoores.append(final_score)\n",
    "    print('--', sum(scoores) / len(scoores))\n",
    "    print('---')\n",
    "    \n",
    "    "
   ]
  },
  {
   "cell_type": "code",
   "execution_count": null,
   "id": "132d9103",
   "metadata": {},
   "outputs": [],
   "source": [
    "# scores_3 = scoores"
   ]
  },
  {
   "cell_type": "code",
   "execution_count": 25,
   "id": "91991a72",
   "metadata": {
    "scrolled": true
   },
   "outputs": [
    {
     "name": "stdout",
     "output_type": "stream",
     "text": [
      "0.59\n",
      "0.59\n",
      "-----\n",
      "0.84875\n",
      "0.719375\n",
      "-----\n",
      "0.66875\n",
      "0.7025\n",
      "-----\n",
      "0.84375\n",
      "0.7378125\n",
      "-----\n",
      "0.9775\n",
      "0.78575\n",
      "-----\n"
     ]
    },
    {
     "ename": "KeyboardInterrupt",
     "evalue": "",
     "output_type": "error",
     "traceback": [
      "\u001b[0;31m---------------------------------------------------------------------------\u001b[0m",
      "\u001b[0;31mKeyboardInterrupt\u001b[0m                         Traceback (most recent call last)",
      "Cell \u001b[0;32mIn [25], line 25\u001b[0m\n\u001b[1;32m     23\u001b[0m neg_scores \u001b[38;5;241m=\u001b[39m []\n\u001b[1;32m     24\u001b[0m \u001b[38;5;28;01mfor\u001b[39;00m batch \u001b[38;5;129;01min\u001b[39;00m validation_batch: \n\u001b[0;32m---> 25\u001b[0m     neg_scores \u001b[38;5;241m+\u001b[39m\u001b[38;5;241m=\u001b[39m \u001b[43mscore_complex\u001b[49m\u001b[43m(\u001b[49m\u001b[43mp\u001b[49m\u001b[38;5;241;43m.\u001b[39;49m\u001b[43mx\u001b[49m\u001b[43m,\u001b[49m\u001b[43m \u001b[49m\u001b[43mbatch\u001b[49m\u001b[38;5;241;43m.\u001b[39;49m\u001b[43mx\u001b[49m\u001b[43m,\u001b[49m\u001b[43m \u001b[49m\u001b[43mbatch\u001b[49m\u001b[38;5;241;43m.\u001b[39;49m\u001b[43mbatch\u001b[49m\u001b[43m)\u001b[49m\n\u001b[1;32m     27\u001b[0m neg_scores \u001b[38;5;241m=\u001b[39m torch\u001b[38;5;241m.\u001b[39mtensor(neg_scores)\n\u001b[1;32m     28\u001b[0m final_score \u001b[38;5;241m=\u001b[39m torch\u001b[38;5;241m.\u001b[39mwhere(neg_scores \u001b[38;5;241m<\u001b[39m pos_score)[\u001b[38;5;241m0\u001b[39m]\u001b[38;5;241m.\u001b[39msize(\u001b[38;5;241m0\u001b[39m) \u001b[38;5;241m/\u001b[39m neg_scores\u001b[38;5;241m.\u001b[39msize(\u001b[38;5;241m0\u001b[39m)\n",
      "Cell \u001b[0;32mIn [25], line 8\u001b[0m, in \u001b[0;36mscore_complex\u001b[0;34m(p, m, batch)\u001b[0m\n\u001b[1;32m      7\u001b[0m \u001b[38;5;28;01mdef\u001b[39;00m \u001b[38;5;21mscore_complex\u001b[39m(p, m, batch\u001b[38;5;241m=\u001b[39m\u001b[38;5;28;01mNone\u001b[39;00m):\n\u001b[0;32m----> 8\u001b[0m     atom_cos \u001b[38;5;241m=\u001b[39m \u001b[43mtorch\u001b[49m\u001b[38;5;241;43m.\u001b[39;49m\u001b[43msort\u001b[49m\u001b[43m(\u001b[49m\u001b[43mall_pairs_cos\u001b[49m\u001b[43m(\u001b[49m\u001b[43mm\u001b[49m\u001b[43m,\u001b[49m\u001b[43m \u001b[49m\u001b[43mp\u001b[49m\u001b[43m)\u001b[49m\u001b[43m,\u001b[49m\u001b[43m \u001b[49m\u001b[43mdim\u001b[49m\u001b[38;5;241;43m=\u001b[39;49m\u001b[38;5;241;43m1\u001b[39;49m\u001b[43m,\u001b[49m\u001b[43m \u001b[49m\u001b[43mdescending\u001b[49m\u001b[38;5;241;43m=\u001b[39;49m\u001b[38;5;28;43;01mTrue\u001b[39;49;00m\u001b[43m)\u001b[49m\u001b[38;5;241m.\u001b[39mvalues[:, :\u001b[38;5;241m25\u001b[39m]\n\u001b[1;32m      9\u001b[0m     scores \u001b[38;5;241m=\u001b[39m []\n\u001b[1;32m     11\u001b[0m     \u001b[38;5;28;01mif\u001b[39;00m batch\u001b[38;5;241m==\u001b[39m\u001b[38;5;28;01mNone\u001b[39;00m:\n",
      "\u001b[0;31mKeyboardInterrupt\u001b[0m: "
     ]
    }
   ],
   "source": [
    "import time\n",
    "validation_batch = DataLoader(decoy_embeds, batch_size=64, shuffle=False)\n",
    "\n",
    "start = time.time()\n",
    "final_scores = []\n",
    "\n",
    "def score_complex(p, m, batch=None):\n",
    "    atom_cos = torch.sort(all_pairs_cos(m, p), dim=1, descending=True).values[:, :25]\n",
    "    scores = []\n",
    "    \n",
    "    if batch==None:\n",
    "        batch = torch.zeros(atom_cos.size(0))\n",
    "    \n",
    "    for bi in torch.unique(batch):\n",
    "        scores.append(atom_cos[torch.where(batch==bi)[0]].mean().item())\n",
    "        \n",
    "    return torch.tensor(scores)\n",
    "    \n",
    "\n",
    "for p,m in pl_pairs:\n",
    "    pos_score = score_complex(p.x, m.x).item()\n",
    "    \n",
    "    neg_scores = []\n",
    "    for batch in validation_batch: \n",
    "        neg_scores += score_complex(p.x, batch.x, batch.batch)\n",
    "        \n",
    "    neg_scores = torch.tensor(neg_scores)\n",
    "    final_score = torch.where(neg_scores < pos_score)[0].size(0) / neg_scores.size(0)\n",
    "    print(final_score)\n",
    "    final_scores.append(final_score)\n",
    "    print(sum(final_scores) / len(final_scores))\n",
    "    print('-----')"
   ]
  },
  {
   "cell_type": "code",
   "execution_count": 49,
   "id": "02651871",
   "metadata": {},
   "outputs": [
    {
     "data": {
      "image/png": "[encoded data removed]",
      "text/plain": [
       "<Figure size 640x480 with 1 Axes>"
      ]
     },
     "metadata": {},
     "output_type": "display_data"
    }
   ],
   "source": [
    "# cos_scores = final_scores    \n",
    "plot_histogram_data(torch.tensor(scoores), bins=100)"
   ]
  }
 ],
 "metadata": {
  "kernelspec": {
   "display_name": "vs-env",
   "language": "python",
   "name": "vs-env"
  },
  "language_info": {
   "codemirror_mode": {
    "name": "ipython",
    "version": 3
   },
   "file_extension": ".py",
   "mimetype": "text/x-python",
   "name": "python",
   "nbconvert_exporter": "python",
   "pygments_lexer": "ipython3",
   "version": "3.10.6"
  }
 },
 "nbformat": 4,
 "nbformat_minor": 5
}
